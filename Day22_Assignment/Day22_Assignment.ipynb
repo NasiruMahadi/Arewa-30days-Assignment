{
 "cells": [
  {
   "cell_type": "markdown",
   "metadata": {},
   "source": [
    "## 💻 Exercises: Day 22\n",
    "\n",
    "1. Scrape the following website and store the data as json file(url = 'http://www.bu.edu/president/boston-university-facts-stats/')."
   ]
  },
  {
   "cell_type": "markdown",
   "metadata": {},
   "source": [
    "2. Extract the table in this url (https://archive.ics.uci.edu/ml/datasets.php) and change it to a json file"
   ]
  },
  {
   "cell_type": "code",
   "execution_count": null,
   "metadata": {},
   "outputs": [],
   "source": [
    "import requests\n",
    "from bs4 import BeautifulSoup\n",
    "import json\n",
    "\n",
    "# Make a request to fetch the page content\n",
    "url = 'https://archive.ics.uci.edu/datasets'\n",
    "response = requests.get(url)\n",
    "\n",
    "# Parse HTML content using BeautifulSoup\n",
    "soup = BeautifulSoup(response.content, 'html.parser')\n",
    "\n",
    "# Extract relevant data\n",
    "title = soup.title.text\n",
    "\n",
    "menu_items = []\n",
    "for item in soup.find('ul', {'class': 'menu menu-horizontal'}).find_all('a'):\n",
    "    text = item.text\n",
    "    href = item['href']\n",
    "    menu_items.append({'text': text, 'href': href})\n",
    "\n",
    "data = {\n",
    "    'title': title,\n",
    "    'menu_items': menu_items\n",
    "}\n",
    "\n",
    "# Write JSON file\n",
    "with open('uci_datasets.json', 'w', encoding='utf-8') as json_file:\n",
    "    json.dump(data, json_file, ensure_ascii=False, indent=4)\n",
    "\n",
    "print('Data has been extracted and saved as uci_datasets.json')\n"
   ]
  },
  {
   "cell_type": "markdown",
   "metadata": {},
   "source": [
    "3. Scrape the presidents table and store the data as json(https://en.wikipedia.org/wiki/List_of_presidents_of_the_United_States). The table is not very structured and the scrapping may take very long time."
   ]
  },
  {
   "cell_type": "code",
   "execution_count": null,
   "metadata": {},
   "outputs": [],
   "source": [
    "import requests\n",
    "from bs4 import BeautifulSoup\n",
    "import json\n",
    "\n",
    "# Make a request to fetch the page content\n",
    "url = 'https://en.wikipedia.org/wiki/List_of_presidents_of_the_United_States'\n",
    "response = requests.get(url)\n",
    "\n",
    "# Parse HTML content using BeautifulSoup\n",
    "soup = BeautifulSoup(response.content, 'html.parser')\n",
    "\n",
    "# Find the table containing the list of presidents\n",
    "table = soup.find('table', {'class': 'wikitable'})\n",
    "\n",
    "# Extract data from the table and convert it to a list of dictionaries\n",
    "data = []\n",
    "headers = [header.text.strip() for header in table.find_all('th')]\n",
    "for row in table.find_all('tr')[1:]:\n",
    "    row_data = [cell.text.strip() for cell in row.find_all(['td', 'th'])]\n",
    "    president_info = dict(zip(headers, row_data))\n",
    "    data.append(president_info)\n",
    "\n",
    "# Write JSON file\n",
    "with open('presidents_data.json', 'w', encoding='utf-8') as f:\n",
    "    json.dump(data, f, ensure_ascii=False, indent=4)\n"
   ]
  },
  {
   "cell_type": "code",
   "execution_count": null,
   "metadata": {},
   "outputs": [],
   "source": [
    "import json\n",
    "import pandas as pd\n",
    "\n",
    "# Open the JSON file\n",
    "with open('presidents_data.json', 'r', encoding='utf-8') as f:\n",
    "    data = json.load(f)\n",
    "\n",
    "# Extract information from the structure\n",
    "presidents_table = []\n",
    "for item in data:\n",
    "    no = item.get(\"No.[a]\", \"\")\n",
    "    name = item.get(\"Name(Birth–Death)\", \"\")\n",
    "    term = item.get(\"Term[14]\", \"\")\n",
    "    party = item.get(\"Party[b][15]\", \"\")\n",
    "    election = item.get(\"Election\", \"\")\n",
    "\n",
    "    presidents_table.append({\n",
    "        'No.': no,\n",
    "        'Name': name,\n",
    "        'Term': term,\n",
    "        'Party': party,\n",
    "        'Election': election,\n",
    "    })\n",
    "\n",
    "# Create a DataFrame for the presidents table\n",
    "df = pd.DataFrame(presidents_table)\n",
    "\n",
    "# Display the DataFrame\n",
    "print(df)"
   ]
  }
 ],
 "metadata": {
  "kernelspec": {
   "display_name": "Arewadatascience",
   "language": "python",
   "name": "python3"
  },
  "language_info": {
   "codemirror_mode": {
    "name": "ipython",
    "version": 3
   },
   "file_extension": ".py",
   "mimetype": "text/x-python",
   "name": "python",
   "nbconvert_exporter": "python",
   "pygments_lexer": "ipython3",
   "version": "3.8.18"
  }
 },
 "nbformat": 4,
 "nbformat_minor": 2
}
