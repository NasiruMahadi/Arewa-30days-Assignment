{
 "cells": [
  {
   "cell_type": "markdown",
   "metadata": {},
   "source": [
    "## 💻 Exercises: Day 9\n",
    "### Exercises: Level 1\n",
    "1.  Get user input using input(“Enter your age: ”). If user is 18 or older, give feedback: You are old enough to drive. If below 18 give feedback to wait for the missing amount of years. Output:\n",
    "    ```sh\n",
    "    Enter your age: 30\n",
    "    You are old enough to learn to drive.\n",
    "    Output:\n",
    "    Enter your age: 15\n",
    "    You need 3 more years to learn to drive.\n",
    "    ```"
   ]
  },
  {
   "cell_type": "code",
   "execution_count": 7,
   "metadata": {},
   "outputs": [
    {
     "name": "stdout",
     "output_type": "stream",
     "text": [
      "You need 6 more years to learn to drive.\n"
     ]
    }
   ],
   "source": [
    "age = int(input(\"Enter your age:\"))\n",
    "\n",
    "if (age >= 18):\n",
    "    print(\"You are old enough to drive.\")\n",
    "\n",
    "else:\n",
    "    print(\"You need {} more years to learn to drive.\".format(18-age))"
   ]
  },
  {
   "cell_type": "markdown",
   "metadata": {},
   "source": [
    "2.  Compare the values of my_age and your_age using if … else. Who is older (me or you)? Use input(“Enter your age: ”) to get the age as input. You can use a nested condition to print 'year' for 1 year difference in age, 'years' for bigger differences, and a custom text if my_age = your_age. Output:\n",
    "    ```sh\n",
    "    Enter your age: 30\n",
    "    You are 5 years older than me."
   ]
  },
  {
   "cell_type": "code",
   "execution_count": 9,
   "metadata": {},
   "outputs": [
    {
     "name": "stdout",
     "output_type": "stream",
     "text": [
      "You are 6 years older than me.\n"
     ]
    }
   ],
   "source": [
    "my_age = 38\n",
    "your_age = int(input(\"Enter your age:\"))\n",
    "\n",
    "if (my_age > your_age):\n",
    "    print(\"You are {} years younger than me.\".format(my_age - your_age))\n",
    "\n",
    "else:\n",
    "    print(\"You are {} years older than me.\".format(your_age - my_age))\n"
   ]
  },
  {
   "cell_type": "markdown",
   "metadata": {},
   "source": [
    "3.  Get two numbers from the user using input prompt. If a is greater than b return a is greater than b, if a is less b return a is smaller than b, else a is equal to b. "
   ]
  },
  {
   "cell_type": "code",
   "execution_count": 11,
   "metadata": {},
   "outputs": [
    {
     "name": "stdout",
     "output_type": "stream",
     "text": [
      "2 is equal to 2.\n"
     ]
    }
   ],
   "source": [
    "a = int(input(\"Enter number one:\"))\n",
    "b = int(input(\"Enter number two:\"))\n",
    "\n",
    "if (a > b):\n",
    "    print(\"{} is greater then {}.\".format(a, b))\n",
    "\n",
    "elif (a < b):\n",
    "    print(\"{} is greater then {}.\".format(b, a))\n",
    "else:\n",
    "    print(\"{} is equal to {}.\".format(a, b))"
   ]
  },
  {
   "cell_type": "markdown",
   "metadata": {},
   "source": [
    "### Exercises: Level 2\n",
    "\n",
    "1. Write a code which gives grade to students according to theirs scores:\n",
    "   \n",
    "\n",
    "        80-100, A\n",
    "        70-89, B\n",
    "        60-69, C\n",
    "        50-59, D\n",
    "        0-49, F\n",
    "        \n"
   ]
  },
  {
   "cell_type": "code",
   "execution_count": 15,
   "metadata": {},
   "outputs": [
    {
     "name": "stdout",
     "output_type": "stream",
     "text": [
      "your score is 34, You got F\n"
     ]
    }
   ],
   "source": [
    "score = int(input(\"Enter your Score:\"))\n",
    "\n",
    "if (score >= 80):\n",
    "    print(\"your score is {}, You got A\".format(score))\n",
    "elif (score >= 70):\n",
    "     print(\"your score is {}, You got B\".format(score))\n",
    "elif (score >= 60):\n",
    "     print(\"your score is {}, You got C\".format(score))\n",
    "elif (score >= 50):\n",
    "     print(\"your score is {}, You got D\".format(score))\n",
    "else:\n",
    "   print(\"your score is {}, You got F\".format(score))\n"
   ]
  },
  {
   "cell_type": "markdown",
   "metadata": {},
   "source": [
    "2. Check if the season is Autumn, Winter, Spring or Summer. If the user input is:\n",
    "    September, October or November, the season is Autumn.\n",
    "    December, January or February, the season is Winter.\n",
    "    March, April or May, the season is Spring\n",
    "    June, July or August, the season is Summer"
   ]
  },
  {
   "cell_type": "code",
   "execution_count": 24,
   "metadata": {},
   "outputs": [
    {
     "name": "stdout",
     "output_type": "stream",
     "text": [
      "The season is Spring\n"
     ]
    }
   ],
   "source": [
    "month = input(\"Enter month:\")\n",
    "\n",
    "if (month == 'September') or (month =='October') or (month =='November'):\n",
    "    print(\"The season is Autumn\")\n",
    "elif (month == 'December') or (month =='January') or (month =='February'):\n",
    "     print(\"The season is Winter\")\n",
    "elif (month == 'March') or (month =='April') or (month =='May'):\n",
    "     print(\"The season is Spring\")\n",
    "elif (month == 'June') or (month =='July') or (month =='August'):\n",
    "     print(\"The season is Summer\")\n"
   ]
  },
  {
   "cell_type": "markdown",
   "metadata": {},
   "source": [
    "3.  The following list contains some fruits:\n",
    "    ```sh\n",
    "    fruits = ['banana', 'orange', 'mango', 'lemon']\n",
    "    ```\n",
    "    If a fruit doesn't exist in the list add the fruit to the list and print the modified list. If the fruit exists print('That fruit already exist in the list')"
   ]
  },
  {
   "cell_type": "code",
   "execution_count": 27,
   "metadata": {},
   "outputs": [
    {
     "name": "stdout",
     "output_type": "stream",
     "text": [
      "['banana', 'orange', 'mango', 'lemon', 'apple']\n"
     ]
    }
   ],
   "source": [
    "fruits = ['banana', 'orange', 'mango', 'lemon']\n",
    "\n",
    "new_fruit = input(\"Enter fruit name:\")\n",
    "\n",
    "if (new_fruit in fruits):\n",
    "    print('That fruit already exist in the list')\n",
    "else:\n",
    "    fruits.append(new_fruit)\n",
    "    print(fruits)"
   ]
  },
  {
   "cell_type": "markdown",
   "metadata": {},
   "source": [
    " ### Exercises: Level 3\n",
    "   1. Here we have a person dictionary. Feel free to modify it!\n"
   ]
  },
  {
   "cell_type": "markdown",
   "metadata": {},
   "source": [
    "* Check if the person dictionary has skills key, if so print out the middle skill in the skills list."
   ]
  },
  {
   "cell_type": "code",
   "execution_count": 15,
   "metadata": {},
   "outputs": [
    {
     "name": "stdout",
     "output_type": "stream",
     "text": [
      "Node\n"
     ]
    }
   ],
   "source": [
    "person={\n",
    "    'first_name': 'Nasiru',\n",
    "    'last_name': 'Mahadi',\n",
    "    'age': 38,\n",
    "    'country': 'Nigeria',\n",
    "    'is_marred': True,\n",
    "    'skills': ['JavaScript', 'React', 'Node', 'MongoDB', 'Python'],\n",
    "    'address': {\n",
    "        'street': 'Hadejia street',\n",
    "        'zipcode': '02210'\n",
    "    }\n",
    "    }\n",
    "\n",
    "if ('skills' in person):\n",
    "    skill_list = person['skills']\n",
    "    middle = len(skill_list)//2\n",
    "    print(skill_list[middle])"
   ]
  },
  {
   "cell_type": "markdown",
   "metadata": {},
   "source": [
    "* Check if the person dictionary has skills key, if so check if the person has 'Python' skill and print out the result."
   ]
  },
  {
   "cell_type": "code",
   "execution_count": 17,
   "metadata": {},
   "outputs": [
    {
     "name": "stdout",
     "output_type": "stream",
     "text": [
      "He has python skill\n"
     ]
    }
   ],
   "source": [
    "if ('skills' in person):\n",
    "    if ('Python' in person['skills']):\n",
    "          print(\"He has python skill\")"
   ]
  },
  {
   "cell_type": "markdown",
   "metadata": {},
   "source": [
    "* If a person skills has only JavaScript and React, print('He is a front end developer'), if the person skills has Node, Python, MongoDB, print('He is a backend developer'), if the person skills has React, Node and MongoDB, Print('He is a fullstack developer'), else print('unknown title') - for more accurate results more conditions can be nested!"
   ]
  },
  {
   "cell_type": "code",
   "execution_count": 18,
   "metadata": {},
   "outputs": [
    {
     "name": "stdout",
     "output_type": "stream",
     "text": [
      "He is a front end developer\n"
     ]
    }
   ],
   "source": [
    "\n",
    "if ('JavaScript' and 'React' in person['skills']):\n",
    "    print('He is a front end developer')\n",
    "elif ('Node' and 'Python' and 'MongoDB'  in person['skills']):\n",
    "     print('He is a backend developer')\n",
    "elif ('React' and 'Node' and 'MongoDB'  in person['skills']):\n",
    "     print('He is a fullstack developer')\n",
    "else: \n",
    "     print('unknown title')"
   ]
  },
  {
   "cell_type": "markdown",
   "metadata": {},
   "source": [
    " * If the person is married and if he lives in Finland, print the information in the following format: \n",
    "  ```py\n",
    "    Asabeneh Yetayeh lives in Finland. He is married.\n",
    "```"
   ]
  },
  {
   "cell_type": "code",
   "execution_count": 20,
   "metadata": {},
   "outputs": [
    {
     "name": "stdout",
     "output_type": "stream",
     "text": [
      "Nasiru Mahadi lives in Nigeria. He is married\n"
     ]
    }
   ],
   "source": [
    "if (person['is_marred'] is True) and (person['country'] == 'Nigeria'):\n",
    "    print('{} {} lives in {}. He is married'.format(person['first_name'], person['last_name'], person['country']))"
   ]
  }
 ],
 "metadata": {
  "kernelspec": {
   "display_name": "Arewadatascience",
   "language": "python",
   "name": "python3"
  },
  "language_info": {
   "codemirror_mode": {
    "name": "ipython",
    "version": 3
   },
   "file_extension": ".py",
   "mimetype": "text/x-python",
   "name": "python",
   "nbconvert_exporter": "python",
   "pygments_lexer": "ipython3",
   "version": "3.8.18"
  }
 },
 "nbformat": 4,
 "nbformat_minor": 2
}
