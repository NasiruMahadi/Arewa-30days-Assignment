{
 "cells": [
  {
   "cell_type": "markdown",
   "metadata": {},
   "source": [
    "## 💻 Exercises: Day 12\n",
    "### Exercises: Level 1\n",
    "1. Write a function which generates a six digit/character random_user_id."
   ]
  },
  {
   "cell_type": "code",
   "execution_count": 5,
   "metadata": {},
   "outputs": [
    {
     "name": "stdout",
     "output_type": "stream",
     "text": [
      "1 8 5 0 7 7\n"
     ]
    }
   ],
   "source": [
    "import random\n",
    "\n",
    "def random_user_id():\n",
    "    digits = [str(random.randint(0, 9)) for i in range(6)]\n",
    "\n",
    "    digits_string = \" \".join(digits)\n",
    "\n",
    "    return digits_string\n",
    "\n",
    "random_digits = random_user_id()\n",
    "\n",
    "print(random_digits)"
   ]
  },
  {
   "cell_type": "markdown",
   "metadata": {},
   "source": [
    "2. Modify the previous task. Declare a function named user_id_gen_by_user. It doesn’t take any parameters but it takes two inputs using input(). One of the inputs is the number of characters and the second input is the number of IDs which are supposed to be generated."
   ]
  },
  {
   "cell_type": "code",
   "execution_count": 8,
   "metadata": {},
   "outputs": [
    {
     "name": "stdout",
     "output_type": "stream",
     "text": [
      "['8 B S f A']\n"
     ]
    }
   ],
   "source": [
    "import random\n",
    "import string\n",
    "def user_id_gen_by_user():\n",
    "\n",
    "    num_chars = int(input(\"Enter the number of characters for each ID: \"))\n",
    "    num_ids = int(input(\"Enter the number of IDs to generate: \"))\n",
    "\n",
    "    ids = []\n",
    "\n",
    "    for i in range(num_ids):\n",
    "        random_id = \" \".join(random.choices(string.ascii_letters + string.digits, k=num_chars))\n",
    "        ids.append(random_id)\n",
    "\n",
    "        return ids\n",
    "    \n",
    "generated_ids = user_id_gen_by_user()\n",
    "print(generated_ids)\n"
   ]
  },
  {
   "cell_type": "markdown",
   "metadata": {},
   "source": [
    "3. Write a function named rgb_color_gen. It will generate rgb colors (3 values ranging from 0 to 255 each)."
   ]
  },
  {
   "cell_type": "code",
   "execution_count": 10,
   "metadata": {},
   "outputs": [
    {
     "name": "stdout",
     "output_type": "stream",
     "text": [
      "rgb (67, 153, 172)\n"
     ]
    }
   ],
   "source": [
    "import random\n",
    "\n",
    "def rgb_color_gen():\n",
    "    red = random.randint(0, 255) \n",
    "    green = random.randint(0, 255)\n",
    "    blue = random.randint(0, 255)\n",
    "\n",
    "    return red, green, blue\n",
    "\n",
    "color = rgb_color_gen()\n",
    "print(\"rgb {}\".format(color))"
   ]
  },
  {
   "cell_type": "markdown",
   "metadata": {},
   "source": [
    "### Exercises: Level 2\n",
    "1. Write a function list_of_hexa_colors which returns any number of hexadecimal colors in an array (six hexadecimal numbers written after #. Hexadecimal numeral system is made out of 16 symbols, 0-9 and first 6 letters of the alphabet, a-f. Check the task 6 for output examples)."
   ]
  },
  {
   "cell_type": "code",
   "execution_count": 12,
   "metadata": {},
   "outputs": [
    {
     "name": "stdout",
     "output_type": "stream",
     "text": [
      "['#6 f 9 d 5 7']\n"
     ]
    }
   ],
   "source": [
    "import random\n",
    "\n",
    "def list_of_hexa_colors(num_colors):\n",
    "    colors = []\n",
    "\n",
    "    for i in range(num_colors):\n",
    "        color = \"#\"+ \" \".join(random.choices('0123456789acdef', k=6))\n",
    "        colors.append(color)\n",
    "\n",
    "        return colors\n",
    "    \n",
    "num_colors = 5\n",
    "hex_colors = list_of_hexa_colors(num_colors)\n",
    "\n",
    "print(hex_colors)"
   ]
  },
  {
   "cell_type": "markdown",
   "metadata": {},
   "source": [
    "2. Write a function list_of_rgb_colors which returns any number of RGB colors in an array."
   ]
  },
  {
   "cell_type": "code",
   "execution_count": 13,
   "metadata": {},
   "outputs": [
    {
     "name": "stdout",
     "output_type": "stream",
     "text": [
      "[(255, 0, 0), (0, 255, 0), (0, 0, 255)]\n"
     ]
    }
   ],
   "source": [
    "def list_of_rgb_colors(*colors):\n",
    "    return list(colors)\n",
    "\n",
    "colors = list(list_of_rgb_colors((255, 0, 0), (0, 255, 0), (0, 0, 255)))\n",
    "\n",
    "print(colors)"
   ]
  },
  {
   "cell_type": "markdown",
   "metadata": {},
   "source": [
    "3. Write a function generate_colors which can generate any number of hexa or rgb colors."
   ]
  },
  {
   "cell_type": "code",
   "execution_count": 14,
   "metadata": {},
   "outputs": [],
   "source": [
    "import random\n",
    "\n",
    "def generated_rgb():\n",
    "    color = (random.randint(0, 255),random.randint(0, 255), random.randint(0, 255) )\n",
    "\n",
    "    return color"
   ]
  },
  {
   "cell_type": "markdown",
   "metadata": {},
   "source": [
    "### Exercises: Level 3\n",
    "1. Call your function shuffle_list, it takes a list as a parameter and it returns a shuffled list"
   ]
  },
  {
   "cell_type": "code",
   "execution_count": 15,
   "metadata": {},
   "outputs": [
    {
     "name": "stdout",
     "output_type": "stream",
     "text": [
      "[2, 4, 1, 3, 5]\n"
     ]
    }
   ],
   "source": [
    "import random\n",
    "\n",
    "def shuffled_list(lst):\n",
    "\n",
    "    shuffled_lst = lst.copy()\n",
    "    random.shuffle(shuffled_lst)\n",
    "\n",
    "    return shuffled_lst\n",
    "\n",
    "my_list = [1,2,3,4,5]\n",
    "shuffled_list = shuffled_list(my_list)\n",
    "\n",
    "print(shuffled_list)"
   ]
  },
  {
   "cell_type": "markdown",
   "metadata": {},
   "source": [
    "2. Write a function which returns an array of seven random numbers in a range of 0-9. All the numbers must be unique."
   ]
  },
  {
   "cell_type": "code",
   "execution_count": 16,
   "metadata": {},
   "outputs": [
    {
     "name": "stdout",
     "output_type": "stream",
     "text": [
      "[5, 4, 6, 1, 9, 0, 7]\n"
     ]
    }
   ],
   "source": [
    "import random\n",
    "\n",
    "def generate_unique_number():\n",
    "    unique_numbers = random.sample(range(10), 7)\n",
    "\n",
    "    return unique_numbers\n",
    "\n",
    "numbers = generate_unique_number()\n",
    "print(numbers)"
   ]
  }
 ],
 "metadata": {
  "kernelspec": {
   "display_name": "Arewadatascience",
   "language": "python",
   "name": "python3"
  },
  "language_info": {
   "codemirror_mode": {
    "name": "ipython",
    "version": 3
   },
   "file_extension": ".py",
   "mimetype": "text/x-python",
   "name": "python",
   "nbconvert_exporter": "python",
   "pygments_lexer": "ipython3",
   "version": "3.8.18"
  }
 },
 "nbformat": 4,
 "nbformat_minor": 2
}
