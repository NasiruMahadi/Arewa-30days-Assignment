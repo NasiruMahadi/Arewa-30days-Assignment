{
 "cells": [
  {
   "cell_type": "markdown",
   "metadata": {},
   "source": [
    "1. Read this url and find the 10 most frequent words. romeo_and_juliet = 'http://www.gutenberg.org/files/1112/1112.txt'"
   ]
  },
  {
   "cell_type": "code",
   "execution_count": null,
   "metadata": {},
   "outputs": [],
   "source": [
    "import requests\n",
    "url = 'http://www.gutenberg.org/files/1112/1112.txt'\n",
    "response = requests.get(url)\n",
    "print(response)\n",
    "data = response.text\n",
    "# print(data)\n",
    "words = [word for word in data.split(\" \")]\n",
    "freq = {i:words.count(i) for i in set(words)}\n",
    "sorted_freq = sorted(freq.items(), key=lambda x: x[1], reverse=True)[:10]\n",
    "print(\"10 most frequents words are: \\n\", sorted_freq)"
   ]
  },
  {
   "cell_type": "markdown",
   "metadata": {},
   "source": [
    "2. Read the cats API and cats_api = 'https://api.thecatapi.com/v1/breeds' and find :\n",
    "   1. the min, max, mean, median, standard deviation of cats' weight in metric units.\n",
    "   2. the min, max, mean, median, standard deviation of cats' lifespan in years.\n",
    "   3. Create a frequency table of country and breed of cats"
   ]
  },
  {
   "cell_type": "code",
   "execution_count": null,
   "metadata": {},
   "outputs": [],
   "source": [
    "import requests\n",
    "import pandas as pd\n",
    "import numpy as np\n",
    "\n",
    "cats_api = 'https://api.thecatapi.com/v1/breeds'\n",
    "\n",
    "response = requests.get(cats_api).json()\n",
    "\n",
    "data = []\n",
    "\n",
    "\n",
    "for breed in response:\n",
    "    # Extract the relevant information from each breed\n",
    "    name = breed['name']\n",
    "    weight = breed['weight']['metric']\n",
    "    lifespan = breed['life_span']\n",
    "    origin = breed['origin']\n",
    "    \n",
    "    # Split the weight and lifespan ranges by '-' and convert them to floats\n",
    "    weight_min, weight_max = map(float, weight.split('-'))\n",
    "    lifespan_min, lifespan_max = map(float, lifespan.split('-'))\n",
    "    \n",
    "    # Calculate the average weight and lifespan for each breed\n",
    "    weight_mean = (weight_min + weight_max) / 2\n",
    "    lifespan_mean = (lifespan_min + lifespan_max) / 2\n",
    "    \n",
    "    # Append the data as a tuple to the list\n",
    "    data.append((name, weight_min, weight_max, weight_mean, lifespan_min, lifespan_max, lifespan_mean, origin))\n",
    "\n",
    "# Create a pandas dataframe from the list of data\n",
    "df = pd.DataFrame(data, columns=['name', 'weight_min', 'weight_max', 'weight_mean', 'lifespan_min', 'lifespan_max', 'lifespan_mean', 'origin'])\n",
    "\n",
    "# Print the first 5 rows of the dataframe\n",
    "print(df.head())\n",
    "\n",
    "# Calculate the min, max, mean, median, and standard deviation of cats' weight in metric units\n",
    "weight_min = df['weight_min'].min()\n",
    "weight_max = df['weight_max'].max()\n",
    "weight_mean = df['weight_mean'].mean()\n",
    "weight_median = df['weight_mean'].median()\n",
    "weight_std = df['weight_mean'].std()\n",
    "\n",
    "# Print the results\n",
    "print(f\"The min, max, mean, median, and standard deviation of cats' weight in metric units are:\")\n",
    "print(f\"{weight_min:.2f} kg, {weight_max:.2f} kg, {weight_mean:.2f} kg, {weight_median:.2f} kg, {weight_std:.2f} kg\")\n",
    "\n",
    "# Calculate the min, max, mean, median, and standard deviation of cats' lifespan in years\n",
    "lifespan_min = df['lifespan_min'].min()\n",
    "lifespan_max = df['lifespan_max'].max()\n",
    "lifespan_mean = df['lifespan_mean'].mean()\n",
    "lifespan_median = df['lifespan_mean'].median()\n",
    "lifespan_std = df['lifespan_mean'].std()\n",
    "\n",
    "# Print the results\n",
    "print(f\"The min, max, mean, median, and standard deviation of cats' lifespan in years are:\")\n",
    "print(f\"{lifespan_min:.2f} years, {lifespan_max:.2f} years, {lifespan_mean:.2f} years, {lifespan_median:.2f} years, {lifespan_std:.2f} years\")\n",
    "\n",
    "# Create a frequency table of country and breed of cats\n",
    "freq_table = df.groupby('origin')['name'].count()\n",
    "\n",
    "# Print the frequency table\n",
    "print(f\"The frequency table of country and breed of cats is:\")\n",
    "print(freq_table)\n"
   ]
  },
  {
   "cell_type": "markdown",
   "metadata": {},
   "source": [
    "3. Read the [countries API](https://restcountries.eu/rest/v2/all) and find\n",
    "   1. the 10 largest countries\n",
    "   2. the 10 most spoken languages\n",
    "   3. the total number of languages in the countries API"
   ]
  },
  {
   "cell_type": "code",
   "execution_count": null,
   "metadata": {},
   "outputs": [],
   "source": [
    "import requests\n",
    "\n",
    "url = \"https://www.github.com/arewadataScience/30-Days-of-Python/blob/main/data/countries_data.json\"\n",
    "response = requests.get(url)\n",
    "if response.status_code == 200:\n",
    "    data = response.json().get('payload', {}).get('fileTree', {}).get('data', {}).get('items', [])\n",
    "\n",
    "    largest_countries = sorted(data, key=lambda x: x.get('size', 0), reverse=True)[:10]\n",
    "    print(\"10 Largest Countries:\")\n",
    "    for country in largest_countries:\n",
    "        print(country.get('name'))\n",
    "else:\n",
    "    print(f\"Failed to fetch data. Status code: {response.status_code}\")\n",
    "\n",
    "\n",
    "# (ii) 10 most spoken languages\n",
    "if response.status_code == 200:\n",
    "    countries_data = response.json()\n",
    "\n",
    "    all_languages = [lang.get('name') for country in data for lang in country.get('languages', [])]\n",
    "    most_spoken_languages = sorted(set(all_languages), key=lambda x: all_languages.count(x), reverse=True)[:10]\n",
    "    print(\"\\n10 Most Spoken Languages:\")\n",
    "    print(most_spoken_languages)\n",
    "else:\n",
    "    print(f\"Failed to fetch data. Status code: {response.status_code}\")\n",
    "\n",
    "\n",
    "# (iii) Total number of languages\n",
    "if response.status_code == 200:\n",
    "    countries_data = response.json()\n",
    "\n",
    "    total_languages = len(set(all_languages))\n",
    "    print(\"\\nTotal Number of Languages in the Countries API:\", total_languages)\n",
    "else:\n",
    "    print(f\"Failed to fetch data. Status code: {response.status_code}\")\n"
   ]
  }
 ],
 "metadata": {
  "kernelspec": {
   "display_name": "Python 3",
   "language": "python",
   "name": "python3"
  },
  "language_info": {
   "codemirror_mode": {
    "name": "ipython",
    "version": 3
   },
   "file_extension": ".py",
   "mimetype": "text/x-python",
   "name": "python",
   "nbconvert_exporter": "python",
   "pygments_lexer": "ipython3",
   "version": "3.8.18"
  }
 },
 "nbformat": 4,
 "nbformat_minor": 2
}
