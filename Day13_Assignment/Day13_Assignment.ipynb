{
 "cells": [
  {
   "cell_type": "markdown",
   "metadata": {},
   "source": [
    "## 💻 Exercises: Day 13\n",
    "1. Filter only negative and zero in the list using list comprehension"
   ]
  },
  {
   "cell_type": "code",
   "execution_count": 2,
   "metadata": {},
   "outputs": [
    {
     "name": "stdout",
     "output_type": "stream",
     "text": [
      "[-4, -3, -2, -1, 0]\n"
     ]
    }
   ],
   "source": [
    "numbers = [-4, -3, -2, -1, 0, 2, 4, 6]\n",
    "\n",
    "negative_numbers = [i for i in numbers if i <= 0]\n",
    "print(negative_numbers)"
   ]
  },
  {
   "cell_type": "markdown",
   "metadata": {},
   "source": [
    "2. Flatten the following list of lists of lists to a one dimensional list :"
   ]
  },
  {
   "cell_type": "code",
   "execution_count": 5,
   "metadata": {},
   "outputs": [
    {
     "name": "stdout",
     "output_type": "stream",
     "text": [
      "[1, 2, 3, 4, 5, 6, 7, 8, 9]\n"
     ]
    }
   ],
   "source": [
    "list_of_lists =[[1, 2, 3], [4, 5, 6], [7, 8, 9]]\n",
    "\n",
    "flattened_list = [number for row in list_of_lists for number in row]\n",
    "print(flattened_list)"
   ]
  },
  {
   "cell_type": "markdown",
   "metadata": {},
   "source": [
    "3. Using list comprehension create the following list of tuples:\n"
   ]
  },
  {
   "cell_type": "code",
   "execution_count": 29,
   "metadata": {},
   "outputs": [
    {
     "name": "stdout",
     "output_type": "stream",
     "text": [
      "[1, 0, 1, 1, 1, 3, 4]\n",
      "[2, 1, 2, 4, 4, 6, 8]\n",
      "[3, 2, 3, 9, 27, 9, 12]\n",
      "[4, 3, 4, 16, 256, 12, 16]\n",
      "[5, 4, 5, 25, 3125, 15, 20]\n",
      "[6, 5, 6, 36, 46656, 18, 24]\n",
      "[7, 6, 7, 49, 823543, 21, 28]\n",
      "[8, 7, 8, 64, 16777216, 24, 32]\n",
      "[9, 8, 9, 81, 387420489, 27, 36]\n",
      "[10, 9, 10, 100, 10000000000, 30, 40]\n"
     ]
    }
   ],
   "source": [
    "numbers = [[i+1, i, i+1, (i+1)**2, (i + 1)**(i+1), (i+1)*3, (i+1)*4] for i in range(10)] \n",
    "\n",
    "\n",
    "for row in numbers:\n",
    "    print(row)"
   ]
  },
  {
   "cell_type": "markdown",
   "metadata": {},
   "source": [
    "4. Flatten the following list to a new list:"
   ]
  },
  {
   "cell_type": "code",
   "execution_count": 43,
   "metadata": {},
   "outputs": [
    {
     "name": "stdout",
     "output_type": "stream",
     "text": [
      "['country: Finland FIN: HELSINKI', 'country: Sweden SWE: STOCKHOLM', 'country: Norway NOR: OSLO']\n",
      "country: Finland FIN: HELSINKI\n",
      "country: Sweden SWE: STOCKHOLM\n",
      "country: Norway NOR: OSLO\n"
     ]
    }
   ],
   "source": [
    "countries = [['Finland', 'Helsinki'], ['Sweden', 'Stockholm'], ['Norway', 'Oslo']]\n",
    "\n",
    "\n",
    "flattened_country = [f\"country: {country} {country[:3].upper()}: {capital.upper()}\" for country, capital in countries]\n",
    "#[number, for row in countries for number in row]\n",
    "print(flattened_country)\n",
    "for item in flattened_country:\n",
    "    print(item)"
   ]
  },
  {
   "cell_type": "markdown",
   "metadata": {},
   "source": [
    "6. Change the following list of lists to a list of concatenated strings:"
   ]
  },
  {
   "cell_type": "code",
   "execution_count": 48,
   "metadata": {},
   "outputs": [
    {
     "name": "stdout",
     "output_type": "stream",
     "text": [
      "['Asabeneh Yetayeh', 'David Smith', 'Donald Trump', 'Bill Gates']\n"
     ]
    }
   ],
   "source": [
    "names = [('Asabeneh', 'Yetayeh'), ('David', 'Smith'), ('Donald', 'Trump'), ('Bill', 'Gates')]\n",
    "\n",
    "concatenated_list = [f\"{first} {last}\" for first, last in names]\n",
    "\n",
    "print(concatenated_list)"
   ]
  },
  {
   "cell_type": "markdown",
   "metadata": {},
   "source": [
    "7. Write a lambda function which can solve a slope or y-intercept of linear functions."
   ]
  },
  {
   "cell_type": "code",
   "execution_count": 49,
   "metadata": {},
   "outputs": [],
   "source": [
    "linear_function  = lambda x1, y1, x2, y2, variable: (y2-y1)/(x2-x1) if variable == 'slope' else y1*((y2-y1) / (x2 - x1)) * x1\n"
   ]
  }
 ],
 "metadata": {
  "kernelspec": {
   "display_name": "Arewadatascience",
   "language": "python",
   "name": "python3"
  },
  "language_info": {
   "codemirror_mode": {
    "name": "ipython",
    "version": 3
   },
   "file_extension": ".py",
   "mimetype": "text/x-python",
   "name": "python",
   "nbconvert_exporter": "python",
   "pygments_lexer": "ipython3",
   "version": "3.8.18"
  }
 },
 "nbformat": 4,
 "nbformat_minor": 2
}
