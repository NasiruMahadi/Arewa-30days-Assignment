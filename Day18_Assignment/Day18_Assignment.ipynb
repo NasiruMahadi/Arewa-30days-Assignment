{
 "cells": [
  {
   "cell_type": "markdown",
   "metadata": {},
   "source": [
    "## 💻 Exercises: Day 18\n",
    "\n",
    "### Exercises: Level 1\n",
    "\n",
    " 1. What is the most frequent word in the following paragraph?"
   ]
  },
  {
   "cell_type": "code",
   "execution_count": 12,
   "metadata": {},
   "outputs": [
    {
     "name": "stdout",
     "output_type": "stream",
     "text": [
      "Most frequent word:  love\n",
      "Frequent:  6\n"
     ]
    }
   ],
   "source": [
    "import re\n",
    "from collections import Counter\n",
    "\n",
    "paragraph = \"I love teaching. If you do not love teaching what else can you love. I love Python if you do not love something which can give you all the capabilities to develop an application what else can you love\"\n",
    "\n",
    "words = re.findall(r'\\b\\w+\\b', paragraph)\n",
    "\n",
    "word_count = Counter(words)\n",
    "\n",
    "most_frequent_word = word_count.most_common(1)[0]\n",
    "\n",
    "print(\"Most frequent word: \", most_frequent_word[0])\n",
    "print(\"Frequent: \", most_frequent_word[1])"
   ]
  },
  {
   "cell_type": "markdown",
   "metadata": {},
   "source": [
    "2. The position of some particles on the horizontal x-axis are -12, -4, -3 and -1 in the negative direction, 0 at origin, 4 and 8 in the positive direction. Extract these numbers from this whole text and find the distance between the two furthest particles"
   ]
  },
  {
   "cell_type": "code",
   "execution_count": null,
   "metadata": {},
   "outputs": [],
   "source": [
    "points = ['-12', '-4', '-3', '-1', '0', '4', '8']\n",
    "sorted_points =  [-12, -4, -3, -1, -1, 0, 2, 4, 8]\n",
    "distance = 8 -(-12)"
   ]
  },
  {
   "cell_type": "markdown",
   "metadata": {},
   "source": [
    "### Exercises: Level 2\n",
    "\n",
    "1. Write a pattern which identifies if a string is a valid python variable"
   ]
  },
  {
   "cell_type": "code",
   "execution_count": 19,
   "metadata": {},
   "outputs": [
    {
     "name": "stdout",
     "output_type": "stream",
     "text": [
      "1Arewwa is a valid variable name.\n"
     ]
    }
   ],
   "source": [
    "import re\n",
    "\n",
    "variable_name= input(\"Input your variable name:\")\n",
    "\n",
    "def is_valid_variable_name(variable_name):\n",
    "    pattern = r'^[a-zA-Z_]*'\n",
    "    return re.match(pattern, variable_name) \n",
    "\n",
    "if is_valid_variable_name(variable_name):\n",
    "\n",
    "    print(variable_name, \"is a valid variable name.\")\n",
    "\n",
    "else:\n",
    "        print(variable_name, \"is an invalid variable name.\")"
   ]
  },
  {
   "cell_type": "markdown",
   "metadata": {},
   "source": [
    "### Exercises: Level 3\n",
    "\n",
    "1. Clean the following text. After cleaning, count three most frequent words in the string."
   ]
  },
  {
   "cell_type": "code",
   "execution_count": 28,
   "metadata": {},
   "outputs": [
    {
     "name": "stdout",
     "output_type": "stream",
     "text": [
      "I am a teacher and I love teaching There is nothing as more rewarding as educating and empowering people I found teaching more interesting than any other jobs Does this motivate you to be a teacher\n",
      "Three most frequent words: \n",
      "Word: I, Frequency: 3\n",
      "Word: a, Frequency: 2\n",
      "Word: teacher, Frequency: 2\n"
     ]
    }
   ],
   "source": [
    "import re\n",
    "from collections import Counter\n",
    "\n",
    "sentence = '''%I $am@% a %tea@cher%, &and& I lo%#ve %tea@ching%;. There $is nothing; &as& mo@re rewarding as educa@ting &and& @emp%o@wering peo@ple. ;I found tea@ching m%o@re interesting tha@n any other %jo@bs. %Do@es thi%s mo@tivate yo@u to be a tea@cher!?'''\n",
    "\n",
    "sentence1 = re.sub(r'[^a-zA-Z\\s]', '', sentence)\n",
    "print(sentence1)                    # print the cleaned sentence\n",
    "\n",
    "words = re.findall(r'\\b\\w+\\b', sentence1)\n",
    "\n",
    "word_count = Counter(words)\n",
    "\n",
    "most_frequent_words = word_count.most_common(3)\n",
    "\n",
    "print(\"Three most frequent words: \")\n",
    "\n",
    "for word, count in most_frequent_words:\n",
    "    print(f\"Word: {word}, Frequency: {count}\")"
   ]
  }
 ],
 "metadata": {
  "kernelspec": {
   "display_name": "Arewadatascience",
   "language": "python",
   "name": "python3"
  },
  "language_info": {
   "codemirror_mode": {
    "name": "ipython",
    "version": 3
   },
   "file_extension": ".py",
   "mimetype": "text/x-python",
   "name": "python",
   "nbconvert_exporter": "python",
   "pygments_lexer": "ipython3",
   "version": "3.8.18"
  }
 },
 "nbformat": 4,
 "nbformat_minor": 2
}
