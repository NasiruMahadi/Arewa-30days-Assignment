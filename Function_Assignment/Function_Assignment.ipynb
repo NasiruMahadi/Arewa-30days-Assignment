{
 "cells": [
  {
   "cell_type": "markdown",
   "metadata": {},
   "source": [
    "1. Message: Write a function called display_message() that prints one sentence telling everyone what you are learning about in this chapter. Call the function, and make sure the message displays correctly.\n",
    "2. Favorite Book: Write a function called favorite_book() that accepts one parameter, title. The function should print a message, such as One of my favorite books is Alice in Wonderland. Call the function, making sure to \n",
    "include a book title as an argument in the function call."
   ]
  },
  {
   "cell_type": "code",
   "execution_count": 1,
   "metadata": {},
   "outputs": [
    {
     "name": "stdout",
     "output_type": "stream",
     "text": [
      "I am learning about Python functions in this chapter.\n",
      "One of my favorite books is Alice in Wonderland.\n"
     ]
    }
   ],
   "source": [
    "# 8-1. Message\n",
    "def display_message():\n",
    "    # prints one sentence telling what you are learning in this chapter\n",
    "    print(\"I am learning about Python functions in this chapter.\")\n",
    "\n",
    "# call the function and make sure the message displays correctly\n",
    "display_message()\n",
    "\n",
    "# 8-2. Favorite Book\n",
    "def favorite_book(title):\n",
    "    # prints a message with the book title as an argument\n",
    "    print(\"One of my favorite books is \" + title + \".\")\n",
    "\n",
    "# call the function with a book title as an argument\n",
    "favorite_book(\"Alice in Wonderland\")\n"
   ]
  },
  {
   "cell_type": "markdown",
   "metadata": {},
   "source": [
    "8-3. T-Shirt: Write a function called make_shirt() that accepts a size and the text of a message that should be printed on the shirt. The function should print a sentence summarizing the size of the shirt and the message printed on it.\n",
    "Call the function once using positional arguments to make a shirt. Call the  function a second time using keyword arguments."
   ]
  },
  {
   "cell_type": "code",
   "execution_count": 1,
   "metadata": {},
   "outputs": [
    {
     "name": "stdout",
     "output_type": "stream",
     "text": [
      "The shirt is size M and has the message 'Hello World' printed on it.\n",
      "The shirt is size L and has the message 'Python Rocks' printed on it.\n"
     ]
    }
   ],
   "source": [
    "# Define a function called make_shirt\n",
    "def make_shirt(size, message):\n",
    "  # Print a sentence summarizing the size and the message\n",
    "  print(f\"The shirt is size {size} and has the message '{message}' printed on it.\")\n",
    "\n",
    "# Call the function once using positional arguments\n",
    "make_shirt(\"M\", \"Hello World\")\n",
    "\n",
    "# Call the function a second time using keyword arguments\n",
    "make_shirt(message=\"Python Rocks\", size=\"L\")\n"
   ]
  },
  {
   "cell_type": "markdown",
   "metadata": {},
   "source": [
    "8-4. Large Shirts: Modify the make_shirt() function so that shirts are large by default with a message that reads I love Python. Make a large shirt and a  medium shirt with the default message, and a shirt of any size with a different \n",
    "message."
   ]
  },
  {
   "cell_type": "code",
   "execution_count": null,
   "metadata": {},
   "outputs": [],
   "source": [
    "# Define a function called make_shirt with default arguments\n",
    "def make_shirt(size=\"L\", message=\"I love Python\"):\n",
    "  # Print a sentence summarizing the size and the message\n",
    "  print(f\"The shirt is size {size} and has the message '{message}' printed on it.\")\n",
    "\n",
    "# Call the function with default arguments\n",
    "make_shirt()\n",
    "\n",
    "# Call the function with a different size but default message\n",
    "make_shirt(size=\"M\")\n",
    "\n",
    "# Call the function with a different size and message\n",
    "make_shirt(size=\"S\", message=\"Python is awesome\")\n"
   ]
  },
  {
   "cell_type": "markdown",
   "metadata": {},
   "source": [
    "8-5. Cities: Write a function called describe_city() that accepts the name of  a city and its country. The function should print a simple sentence, such as  Reykjavik is in Iceland. Give the parameter for the country a default value. \n",
    "Call your function for three different cities, at least one of which is not in the  default country."
   ]
  },
  {
   "cell_type": "code",
   "execution_count": 2,
   "metadata": {},
   "outputs": [
    {
     "name": "stdout",
     "output_type": "stream",
     "text": [
      "Abuja is in Nigeria.\n",
      "Lagos is in Nigeria.\n",
      "Cairo is in Egypt.\n"
     ]
    }
   ],
   "source": [
    "# Define a function called describe_city that accepts the name of a city and its country\n",
    "def describe_city(city, country=\"Nigeria\"):\n",
    "  # Print a simple sentence, such as Reykjavik is in Iceland\n",
    "  print(f\"{city} is in {country}.\")\n",
    "\n",
    "# Call the function for three different cities, at least one of which is not in the default country\n",
    "describe_city(\"Abuja\")\n",
    "describe_city(\"Lagos\")\n",
    "describe_city(\"Cairo\", \"Egypt\")\n"
   ]
  },
  {
   "cell_type": "markdown",
   "metadata": {},
   "source": [
    "8-6. City Names: Write a function called city_country() that takes in the name of a city and its country. The function should return a string formatted like this:\n",
    "\"Santiago, Chile\"\n",
    "Call your function with at least three city-country pairs, and print the values that are returned."
   ]
  },
  {
   "cell_type": "code",
   "execution_count": 3,
   "metadata": {},
   "outputs": [
    {
     "name": "stdout",
     "output_type": "stream",
     "text": [
      "Abuja, Nigeria\n",
      "Paris, France\n",
      "Tokyo, Japan\n"
     ]
    }
   ],
   "source": [
    "# Define a function called city_country that takes in the name of a city and its country\n",
    "def city_country(city, country):\n",
    "  # Return a string formatted like \"Santiago, Chile\"\n",
    "  return f\"{city}, {country}\"\n",
    "\n",
    "# Call the function with at least three city-country pairs\n",
    "city1 = city_country(\"Abuja\", \"Nigeria\")\n",
    "city2 = city_country(\"Paris\", \"France\")\n",
    "city3 = city_country(\"Tokyo\", \"Japan\")\n",
    "\n",
    "# Print the values that are returned\n",
    "print(city1)\n",
    "print(city2)\n",
    "print(city3)\n"
   ]
  },
  {
   "cell_type": "markdown",
   "metadata": {},
   "source": [
    "8-7. Album: Write a function called make_album() that builds a dictionary describing a music album. The function should take in an artist name and an album title, and it should return a dictionary containing these two pieces of \n",
    "information. Use the function to make three dictionaries representing different albums. Print each return value to show that the dictionaries are storing the album information correctly.\n",
    "Use None to add an optional parameter to make_album() that allows you to store the number of songs on an album. If the calling line includes a value for the number of songs, add that value to the album’s dictionary. Make at least \n",
    "one new function call that includes the number of songs on an album."
   ]
  },
  {
   "cell_type": "code",
   "execution_count": 4,
   "metadata": {},
   "outputs": [
    {
     "name": "stdout",
     "output_type": "stream",
     "text": [
      "{'artist': 'Taylor Swift', 'title': '1989'}\n",
      "{'artist': 'Ed Sheeran', 'title': 'Divide'}\n",
      "{'artist': 'Beyoncé', 'title': 'Lemonade', 'songs': 12}\n"
     ]
    }
   ],
   "source": [
    "# Define a function called make_album that takes in an artist name and an album title\n",
    "def make_album(artist, title, songs=None):\n",
    "  # Create a dictionary with the artist and title as keys and values\n",
    "  album = {\"artist\": artist, \"title\": title}\n",
    "  # If the number of songs is provided, add it to the dictionary as another key-value pair\n",
    "  if songs:\n",
    "    album[\"songs\"] = songs\n",
    "  # Return the dictionary\n",
    "  return album\n",
    "\n",
    "# Use the function to make three dictionaries representing different albums\n",
    "album1 = make_album(\"Taylor Swift\", \"1989\")\n",
    "album2 = make_album(\"Ed Sheeran\", \"Divide\")\n",
    "album3 = make_album(\"Beyoncé\", \"Lemonade\", 12)\n",
    "\n",
    "# Print each return value to show that the dictionaries are storing the album information correctly\n",
    "print(album1)\n",
    "print(album2)\n",
    "print(album3)\n"
   ]
  },
  {
   "cell_type": "markdown",
   "metadata": {},
   "source": [
    "8-8. User Albums: Start with your program from Exercise 8-7. Write a while loop that allows users to enter an album’s artist and title. Once you have that information, call make_album() with the user’s input and print the dictionary \n",
    "that’s created. Be sure to include a quit value in the while loop."
   ]
  },
  {
   "cell_type": "code",
   "execution_count": 5,
   "metadata": {},
   "outputs": [
    {
     "name": "stdout",
     "output_type": "stream",
     "text": [
      "{'artist': 'NASIRU', 'title': 'CASS'}\n",
      "{'artist': 'DOVIDO', 'title': 'UNAVAILABLE'}\n"
     ]
    }
   ],
   "source": [
    "# Start with the program from Exercise 8-7\n",
    "def make_album(artist, title, songs=None):\n",
    "  # Create a dictionary with the artist and title as keys and values\n",
    "  album = {\"artist\": artist, \"title\": title}\n",
    "  # If the number of songs is provided, add it to the dictionary as another key-value pair\n",
    "  if songs:\n",
    "    album[\"songs\"] = songs\n",
    "  # Return the dictionary\n",
    "  return album\n",
    "\n",
    "# Write a while loop that allows users to enter an album's artist and title\n",
    "while True:\n",
    "  # Prompt the user for the artist name and store it in a variable\n",
    "  artist = input(\"Enter the artist name (or 'q' to quit): \")\n",
    "  # If the user enters 'q', break out of the loop\n",
    "  if artist == 'q':\n",
    "    break\n",
    "  # Prompt the user for the album title and store it in a variable\n",
    "  title = input(\"Enter the album title: \")\n",
    "  # Call the make_album function with the user's input and store the result in a variable\n",
    "  album = make_album(artist, title)\n",
    "  # Print the dictionary that's created\n",
    "  print(album)\n"
   ]
  },
  {
   "cell_type": "markdown",
   "metadata": {},
   "source": [
    "8-9. Messages: Make a list containing a series of short text messages. Pass the list to a function called show_messages(), which prints each text message."
   ]
  },
  {
   "cell_type": "code",
   "execution_count": 1,
   "metadata": {},
   "outputs": [
    {
     "name": "stdout",
     "output_type": "stream",
     "text": [
      "Hi, how are you?\n",
      "I'm fine, thanks.\n",
      "What are you doing?\n",
      "Just watching a movie.\n",
      "Which one?\n",
      "The Matrix.\n"
     ]
    }
   ],
   "source": [
    "# Define a list of short text messages\n",
    "messages = [\"Hi, how are you?\", \"I'm fine, thanks.\", \"What are you doing?\", \"Just watching a movie.\", \"Which one?\", \"The Matrix.\"]\n",
    "\n",
    "# Define a function called show_messages that takes a list of messages as an argument\n",
    "def show_messages(messages):\n",
    "  # Loop through the list and print each message\n",
    "  for message in messages:\n",
    "    print(message)\n",
    "\n",
    "# Call the function with the messages list\n",
    "show_messages(messages)\n"
   ]
  },
  {
   "cell_type": "markdown",
   "metadata": {},
   "source": [
    "8-10. Sending Messages: Start with a copy of your program from Exercise 8-9. \n",
    "Write a function called send_messages() that prints each text message and moves each message to a new list called sent_messages as it’s printed. After calling the function, print both of your lists to make sure the messages were \n",
    "moved correctly."
   ]
  },
  {
   "cell_type": "code",
   "execution_count": 2,
   "metadata": {},
   "outputs": [
    {
     "name": "stdout",
     "output_type": "stream",
     "text": [
      "Hi, how are you?\n",
      "I'm fine, thanks.\n",
      "What are you doing?\n",
      "Just watching a movie.\n",
      "Which one?\n",
      "The Matrix.\n",
      "[]\n",
      "['Hi, how are you?', \"I'm fine, thanks.\", 'What are you doing?', 'Just watching a movie.', 'Which one?', 'The Matrix.']\n"
     ]
    }
   ],
   "source": [
    "# Start with a copy of the program from Exercise 8-9\n",
    "# Define a list of short text messages\n",
    "messages = [\"Hi, how are you?\", \"I'm fine, thanks.\", \"What are you doing?\", \"Just watching a movie.\", \"Which one?\", \"The Matrix.\"]\n",
    "\n",
    "# Define a function called show_messages that takes a list of messages as an argument\n",
    "def show_messages(messages):\n",
    "  # Loop through the list and print each message\n",
    "  for message in messages:\n",
    "    print(message)\n",
    "\n",
    "# Write a function called send_messages that takes a list of messages and a new list called sent_messages as arguments\n",
    "def send_messages(messages, sent_messages):\n",
    "  # Loop through the list of messages\n",
    "  while messages:\n",
    "    # Pop the first message from the list and store it in a variable\n",
    "    message = messages.pop(0)\n",
    "    # Print the message\n",
    "    print(message)\n",
    "    # Append the message to the sent_messages list\n",
    "    sent_messages.append(message)\n",
    "\n",
    "# Define an empty list called sent_messages\n",
    "sent_messages = []\n",
    "\n",
    "# Call the send_messages function with the messages and sent_messages lists\n",
    "send_messages(messages, sent_messages)\n",
    "\n",
    "# Print both lists to make sure the messages were moved correctly\n",
    "print(messages)\n",
    "print(sent_messages)\n"
   ]
  },
  {
   "cell_type": "markdown",
   "metadata": {},
   "source": [
    "8-11. Archived Messages: Start with your work from Exercise 8-10. Call the function send_messages() with a copy of the list of messages. After calling the function, print both of your lists to show that the original list has retained its messages."
   ]
  },
  {
   "cell_type": "code",
   "execution_count": 3,
   "metadata": {},
   "outputs": [
    {
     "name": "stdout",
     "output_type": "stream",
     "text": [
      "Hi, how are you?\n",
      "I'm fine, thanks.\n",
      "What are you doing?\n",
      "Just watching a movie.\n",
      "Which one?\n",
      "The Matrix.\n",
      "['Hi, how are you?', \"I'm fine, thanks.\", 'What are you doing?', 'Just watching a movie.', 'Which one?', 'The Matrix.']\n",
      "['Hi, how are you?', \"I'm fine, thanks.\", 'What are you doing?', 'Just watching a movie.', 'Which one?', 'The Matrix.']\n"
     ]
    }
   ],
   "source": [
    "# Start with a copy of the program from Exercise 8-10\n",
    "# Define a list of short text messages\n",
    "messages = [\"Hi, how are you?\", \"I'm fine, thanks.\", \"What are you doing?\", \"Just watching a movie.\", \"Which one?\", \"The Matrix.\"]\n",
    "\n",
    "# Define a function called show_messages that takes a list of messages as an argument\n",
    "def show_messages(messages):\n",
    "  # Loop through the list and print each message\n",
    "  for message in messages:\n",
    "    print(message)\n",
    "\n",
    "# Write a function called send_messages that takes a list of messages and a new list called sent_messages as arguments\n",
    "def send_messages(messages, sent_messages):\n",
    "  # Loop through the list of messages\n",
    "  while messages:\n",
    "    # Pop the first message from the list and store it in a variable\n",
    "    message = messages.pop(0)\n",
    "    # Print the message\n",
    "    print(message)\n",
    "    # Append the message to the sent_messages list\n",
    "    sent_messages.append(message)\n",
    "\n",
    "# Define an empty list called sent_messages\n",
    "sent_messages = []\n",
    "\n",
    "# Call the send_messages function with a copy of the messages list and the sent_messages list\n",
    "send_messages(messages[:], sent_messages)\n",
    "\n",
    "# Print both lists to show that the original list has retained its messages\n",
    "print(messages)\n",
    "print(sent_messages)\n"
   ]
  },
  {
   "cell_type": "markdown",
   "metadata": {},
   "source": [
    "8-12. Sandwiches: Write a function that accepts a list of items a person wants on a sandwich. The function should have one parameter that collects as many items as the function call provides, and it should print a summary of the sandwich that’s being ordered. Call the function three times, using a different number of arguments each time."
   ]
  },
  {
   "cell_type": "code",
   "execution_count": 4,
   "metadata": {},
   "outputs": [
    {
     "name": "stdout",
     "output_type": "stream",
     "text": [
      "Making a sandwich with the following items:\n",
      "- ham\n",
      "- cheese\n",
      "- lettuce\n",
      "- tomato\n",
      "Your sandwich is ready!\n",
      "\n",
      "Making a sandwich with the following items:\n",
      "- peanut butter\n",
      "- jam\n",
      "Your sandwich is ready!\n",
      "\n",
      "Making a sandwich with the following items:\n",
      "- turkey\n",
      "- bacon\n",
      "- avocado\n",
      "Your sandwich is ready!\n",
      "\n"
     ]
    }
   ],
   "source": [
    "# Define a function called make_sandwich that takes a variable number of arguments\n",
    "def make_sandwich(*items):\n",
    "  # Print a message indicating the start of making a sandwich\n",
    "  print(\"Making a sandwich with the following items:\")\n",
    "  # Loop through the items and print each one\n",
    "  for item in items:\n",
    "    print(f\"- {item}\")\n",
    "  # Print a message indicating the end of making a sandwich\n",
    "  print(\"Your sandwich is ready!\\n\")\n",
    "\n",
    "# Call the function with different numbers of arguments\n",
    "make_sandwich(\"ham\", \"cheese\", \"lettuce\", \"tomato\")\n",
    "make_sandwich(\"peanut butter\", \"jam\")\n",
    "make_sandwich(\"turkey\", \"bacon\", \"avocado\")\n"
   ]
  },
  {
   "cell_type": "markdown",
   "metadata": {},
   "source": [
    "8-13. User Profile: Start with a copy of user_profile.py from page 148. Build a profile of yourself by calling build_profile(), using your first and last names and three other key-value pairs that describe you."
   ]
  },
  {
   "cell_type": "code",
   "execution_count": 5,
   "metadata": {},
   "outputs": [
    {
     "name": "stdout",
     "output_type": "stream",
     "text": [
      "{'age': 25, 'hobby': 'reading', 'location': 'London', 'first_name': 'Alice', 'last_name': 'Smith'}\n"
     ]
    }
   ],
   "source": [
    "# Start with a copy of user_profile.py from page 148\n",
    "# This is a function that builds a dictionary containing user information\n",
    "def build_profile(first, last, **user_info):\n",
    "  \"\"\"Build a dictionary containing everything we know about a user.\"\"\"\n",
    "  user_info['first_name'] = first\n",
    "  user_info['last_name'] = last\n",
    "  return user_info\n",
    "\n",
    "# Build a profile of yourself by calling build_profile()\n",
    "# Use your first and last names and three other key-value pairs that describe you\n",
    "my_profile = build_profile('Alice', 'Smith', age=25, hobby='reading', location='London')\n",
    "\n",
    "# Print the profile\n",
    "print(my_profile)\n"
   ]
  },
  {
   "cell_type": "markdown",
   "metadata": {},
   "source": [
    "-14. Cars: Write a function that stores information about a car in a dictionary. The function should always receive a manufacturer and a model name. It should then accept an arbitrary number of keyword arguments. Call the function with the required information and two other name-value pairs, such as a color or an optional feature. Your function should work for a call like this one:\n",
    "car = make_car('subaru', 'outback', color='blue', tow_package=True)\n"
   ]
  },
  {
   "cell_type": "code",
   "execution_count": 6,
   "metadata": {},
   "outputs": [
    {
     "name": "stdout",
     "output_type": "stream",
     "text": [
      "{'manufacturer': 'subaru', 'model_name': 'outback', 'color': 'blue', 'tow_package': True}\n"
     ]
    }
   ],
   "source": [
    "# Define a function called make_car that takes a manufacturer, a model name, and any number of keyword arguments\n",
    "def make_car(manufacturer, model_name, **car_info):\n",
    "  # Create a dictionary with the manufacturer and model name as keys and values\n",
    "  car = {\"manufacturer\": manufacturer, \"model_name\": model_name}\n",
    "  # Loop through the keyword arguments and add them to the dictionary\n",
    "  for key, value in car_info.items():\n",
    "    car[key] = value\n",
    "  # Return the dictionary\n",
    "  return car\n",
    "\n",
    "# Call the function with the required information and two other name-value pairs\n",
    "car = make_car('subaru', 'outback', color='blue', tow_package=True)\n",
    "\n",
    "# Print the dictionary that's returned\n",
    "print(car)\n"
   ]
  },
  {
   "cell_type": "markdown",
   "metadata": {},
   "source": [
    "8-15. Printing Models: Put the functions for the example printing_models.py in a separate file called printing_functions.py. Write an import statement at the top of printing_models.py, and modify the file to use the imported functions."
   ]
  },
  {
   "cell_type": "code",
   "execution_count": null,
   "metadata": {},
   "outputs": [],
   "source": [
    "# Create a file called printing_functions.py and save the following code in it\n",
    "# This is a module that contains two functions for printing 3D models\n",
    "\n",
    "def print_models(unprinted_designs, completed_models):\n",
    "  \"\"\"\n",
    "  Simulate printing each design, until none are left.\n",
    "  Move each design to completed_models after printing.\n",
    "  \"\"\"\n",
    "  while unprinted_designs:\n",
    "    current_design = unprinted_designs.pop()\n",
    "    print(f\"Printing model: {current_design}\")\n",
    "    completed_models.append(current_design)\n",
    "\n",
    "def show_completed_models(completed_models):\n",
    "  \"\"\"Show all the models that were printed.\"\"\"\n",
    "  print(\"\\nThe following models have been printed:\")\n",
    "  for completed_model in completed_models:\n",
    "    print(completed_model)\n",
    "\n",
    "# Create another file called printing_models.py and save the following code in it\n",
    "# This is a script that uses the functions from the printing_functions module\n",
    "\n",
    "# Import the module\n",
    "import printing_functions as pf\n",
    "\n",
    "# Define a list of unprinted designs and an empty list of completed models\n",
    "unprinted_designs = ['phone case', 'robot pendant', 'dodecahedron']\n",
    "completed_models = []\n",
    "\n",
    "# Call the print_models function from the module and pass the two lists as arguments\n",
    "pf.print_models(unprinted_designs, completed_models)\n",
    "\n",
    "# Call the show_completed_models function from the module and pass the completed_models list as an argument\n",
    "pf.show_completed_models(completed_models)\n"
   ]
  },
  {
   "cell_type": "markdown",
   "metadata": {},
   "source": [
    "8-16. Imports: Using a program you wrote that has one function in it, store that function in a separate file. Import the function into your main program file, and call the function using each of these approaches:\n",
    "- import module_name\n",
    "- from module_name import function_name\n",
    "- from module_name import function_name as fn\n",
    "- import module_name as mn\n",
    "- from module_name import *"
   ]
  },
  {
   "cell_type": "code",
   "execution_count": null,
   "metadata": {},
   "outputs": [],
   "source": [
    "# Suppose we have a file called my_module.py that contains a function called greet\n",
    "# The function takes a name as an argument and prints a greeting message\n",
    "def greet(name):\n",
    "  print(f\"Hello, {name}!\")\n",
    "\n",
    "# We can import the function into another file and call it using different approaches\n",
    "\n",
    "# Approach 1: import the whole module and use the dot notation\n",
    "import my_module\n",
    "my_module.greet(\"Alice\")\n",
    "\n",
    "# Approach 2: import only the function and use it directly\n",
    "from my_module import greet\n",
    "greet(\"Bob\")\n",
    "\n",
    "# Approach 3: import the function and give it an alias\n",
    "from my_module import greet as gr\n",
    "gr(\"Charlie\")\n",
    "\n",
    "# Approach 4: import the whole module and give it an alias\n",
    "import my_module as mm\n",
    "mm.greet(\"David\")\n",
    "\n",
    "# Approach 5: import everything from the module and use it without any prefix\n",
    "from my_module import *\n",
    "greet(\"Eve\")# Suppose we have a file called my_module.py that contains a function called greet\n",
    "# The function takes a name as an argument and prints a greeting message\n",
    "def greet(name):\n",
    "  print(f\"Hello, {name}!\")\n",
    "\n",
    "# We can import the function into another file and call it using different approaches\n",
    "\n",
    "# Approach 1: import the whole module and use the dot notation\n",
    "import my_module\n",
    "my_module.greet(\"Alice\")\n",
    "\n",
    "# Approach 2: import only the function and use it directly\n",
    "from my_module import greet\n",
    "greet(\"Bob\")\n",
    "\n",
    "# Approach 3: import the function and give it an alias\n",
    "from my_module import greet as gr\n",
    "gr(\"Charlie\")\n",
    "\n",
    "# Approach 4: import the whole module and give it an alias\n",
    "import my_module as mm\n",
    "mm.greet(\"David\")\n",
    "\n",
    "# Approach 5: import everything from the module and use it without any prefix\n",
    "from my_module import *\n",
    "greet(\"Eve\")\n"
   ]
  },
  {
   "cell_type": "markdown",
   "metadata": {},
   "source": [
    "8-17. Styling Functions: Choose any three programs you wrote for this chapter, and make sure they follow the styling guidelines described in this section."
   ]
  },
  {
   "cell_type": "code",
   "execution_count": 13,
   "metadata": {},
   "outputs": [
    {
     "name": "stdout",
     "output_type": "stream",
     "text": [
      "Abuja, Nigeria\n",
      "Paris, France\n",
      "Tokyo, Japan\n",
      "{'artist': 'subaru', 'title': 'outback', 'color': 'blue', 'tow_package': True}\n",
      "Making a sandwich with the following items:\n",
      "- ham\n",
      "- cheese\n",
      "- lettuce\n",
      "- tomato\n",
      "Your sandwich is ready!\n",
      "\n",
      "Making a sandwich with the following items:\n",
      "- peanut butter\n",
      "- jam\n",
      "Your sandwich is ready!\n",
      "\n",
      "Making a sandwich with the following items:\n",
      "- turkey\n",
      "- bacon\n",
      "- avocado\n",
      "Your sandwich is ready!\n",
      "\n"
     ]
    }
   ],
   "source": [
    "# Choose three programs from the previous exercises and make sure they follow the styling guidelines\n",
    "\n",
    "# Program 1: Write a function called city_country that takes in the name of a city and its country\n",
    "def city_country(city, country):\n",
    "  \"\"\"Return a string formatted like 'Santiago, Chile'.\"\"\"\n",
    "  return f\"{city}, {country}\"\n",
    "\n",
    "# Call the function with at least three city-country pairs\n",
    "city1 = city_country(\"Abuja\", \"Nigeria\")\n",
    "city2 = city_country(\"Paris\", \"France\")\n",
    "city3 = city_country(\"Tokyo\", \"Japan\")\n",
    "\n",
    "# Print the values that are returned\n",
    "print(city1)\n",
    "print(city2)\n",
    "print(city3)\n",
    "\n",
    "# Program 2: Write a function called make_album that takes a manufacturer, a model name, and any number of keyword arguments\n",
    "def make_album(artist, title, **car_info):\n",
    "  \"\"\"Create a dictionary with the artist and title as keys and values.\"\"\"\n",
    "  album = {\"artist\": artist, \"title\": title}\n",
    "  # Loop through the keyword arguments and add them to the dictionary\n",
    "  for key, value in car_info.items():\n",
    "    album[key] = value\n",
    "  # Return the dictionary\n",
    "  return album\n",
    "\n",
    "# Call the function with the required information and two other name-value pairs\n",
    "album = make_album('subaru', 'outback', color='blue', tow_package=True)\n",
    "\n",
    "# Print the dictionary that's returned\n",
    "print(album)\n",
    "\n",
    "# Program 3: Write a function called make_sandwich that takes a variable number of arguments\n",
    "def make_sandwich(*items):\n",
    "  \"\"\"Print a message indicating the start of making a sandwich.\"\"\"\n",
    "  print(\"Making a sandwich with the following items:\")\n",
    "  # Loop through the items and print each one\n",
    "  for item in items:\n",
    "    print(f\"- {item}\")\n",
    "  # Print a message indicating the end of making a sandwich\n",
    "  print(\"Your sandwich is ready!\\n\")\n",
    "\n",
    "# Call the function with different numbers of arguments\n",
    "make_sandwich(\"ham\", \"cheese\", \"lettuce\", \"tomato\")\n",
    "make_sandwich(\"peanut butter\", \"jam\")\n",
    "make_sandwich(\"turkey\", \"bacon\", \"avocado\")\n"
   ]
  }
 ],
 "metadata": {
  "kernelspec": {
   "display_name": "Arewadatascience",
   "language": "python",
   "name": "python3"
  },
  "language_info": {
   "codemirror_mode": {
    "name": "ipython",
    "version": 3
   },
   "file_extension": ".py",
   "mimetype": "text/x-python",
   "name": "python",
   "nbconvert_exporter": "python",
   "pygments_lexer": "ipython3",
   "version": "3.8.18"
  }
 },
 "nbformat": 4,
 "nbformat_minor": 2
}
