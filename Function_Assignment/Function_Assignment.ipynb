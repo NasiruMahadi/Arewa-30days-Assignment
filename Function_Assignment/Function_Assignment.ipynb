{
 "cells": [
  {
   "cell_type": "markdown",
   "metadata": {},
   "source": [
    "1. Message: Write a function called display_message() that prints one sentence telling everyone what you are learning about in this chapter. Call the function, and make sure the message displays correctly.\n",
    "2. Favorite Book: Write a function called favorite_book() that accepts one parameter, title. The function should print a message, such as One of my favorite books is Alice in Wonderland. Call the function, making sure to \n",
    "include a book title as an argument in the function call."
   ]
  },
  {
   "cell_type": "code",
   "execution_count": 1,
   "metadata": {},
   "outputs": [
    {
     "name": "stdout",
     "output_type": "stream",
     "text": [
      "I am learning about Python functions in this chapter.\n",
      "One of my favorite books is Alice in Wonderland.\n"
     ]
    }
   ],
   "source": [
    "# 8-1. Message\n",
    "def display_message():\n",
    "    # prints one sentence telling what you are learning in this chapter\n",
    "    print(\"I am learning about Python functions in this chapter.\")\n",
    "\n",
    "# call the function and make sure the message displays correctly\n",
    "display_message()\n",
    "\n",
    "# 8-2. Favorite Book\n",
    "def favorite_book(title):\n",
    "    # prints a message with the book title as an argument\n",
    "    print(\"One of my favorite books is \" + title + \".\")\n",
    "\n",
    "# call the function with a book title as an argument\n",
    "favorite_book(\"Alice in Wonderland\")\n"
   ]
  }
 ],
 "metadata": {
  "kernelspec": {
   "display_name": "Arewadatascience",
   "language": "python",
   "name": "python3"
  },
  "language_info": {
   "codemirror_mode": {
    "name": "ipython",
    "version": 3
   },
   "file_extension": ".py",
   "mimetype": "text/x-python",
   "name": "python",
   "nbconvert_exporter": "python",
   "pygments_lexer": "ipython3",
   "version": "3.8.18"
  }
 },
 "nbformat": 4,
 "nbformat_minor": 2
}
