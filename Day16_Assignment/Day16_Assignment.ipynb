{
 "cells": [
  {
   "cell_type": "markdown",
   "metadata": {},
   "source": [
    "## 💻 Exercises: Day 16\n",
    "\n",
    "1. Get the current day, month, year, hour, minute and timestamp from datetime module"
   ]
  },
  {
   "cell_type": "code",
   "execution_count": 1,
   "metadata": {},
   "outputs": [
    {
     "name": "stdout",
     "output_type": "stream",
     "text": [
      "2023-12-20 05:31:36.815065\n",
      "20 12 2023 5 31\n",
      "timestamp 1703046696.815065\n",
      "20/12/2023, 5:31\n"
     ]
    }
   ],
   "source": [
    "from datetime import datetime\n",
    "now = datetime.now()\n",
    "print(now)                      \n",
    "day = now.day                   \n",
    "month = now.month               \n",
    "year = now.year                 \n",
    "hour = now.hour                 \n",
    "minute = now.minute             \n",
    "second = now.second\n",
    "timestamp = now.timestamp()\n",
    "print(day, month, year, hour, minute)\n",
    "print('timestamp', timestamp)\n",
    "print(f'{day}/{month}/{year}, {hour}:{minute}')"
   ]
  },
  {
   "cell_type": "markdown",
   "metadata": {},
   "source": [
    "2. Format the current date using this format: (\"%m/%d/%Y, %H:%M:%S\")"
   ]
  },
  {
   "cell_type": "code",
   "execution_count": 2,
   "metadata": {},
   "outputs": [
    {
     "name": "stdout",
     "output_type": "stream",
     "text": [
      "12/20/2023, 5:31:36\n"
     ]
    }
   ],
   "source": [
    "\n",
    "print(f'{month}/{day}/{year}, {hour}:{minute}:{second}')"
   ]
  },
  {
   "cell_type": "markdown",
   "metadata": {},
   "source": [
    "3. Today is 5 December, 2019. Change this time string to time."
   ]
  },
  {
   "cell_type": "code",
   "execution_count": 4,
   "metadata": {},
   "outputs": [
    {
     "name": "stdout",
     "output_type": "stream",
     "text": [
      "Today_date = 5 December, 2019\n",
      "date_object = 2019-12-05 00:00:00\n"
     ]
    }
   ],
   "source": [
    "from datetime import datetime\n",
    "date_string = \"5 December, 2019\"\n",
    "print(\"Today_date =\", date_string)\n",
    "date_object = datetime.strptime(date_string, \"%d %B, %Y\")\n",
    "print(\"date_object =\", date_object)"
   ]
  },
  {
   "cell_type": "markdown",
   "metadata": {},
   "source": [
    "4.  Calculate the time difference between now and new year."
   ]
  },
  {
   "cell_type": "code",
   "execution_count": 9,
   "metadata": {},
   "outputs": [
    {
     "name": "stdout",
     "output_type": "stream",
     "text": [
      "Time remaining until New year  11 days, 18:01:53.517957\n"
     ]
    }
   ],
   "source": [
    "from datetime import timedelta\n",
    "today =datetime.now()\n",
    "\n",
    "new_year = datetime(today.year+1, 1, 1)\n",
    "\n",
    "time_difference = new_year - today\n",
    "\n",
    "print(\"Time remaining until New year \", time_difference)"
   ]
  },
  {
   "cell_type": "markdown",
   "metadata": {},
   "source": [
    "5. Calculate the time difference between 1 January 1970 and now."
   ]
  },
  {
   "cell_type": "code",
   "execution_count": 11,
   "metadata": {},
   "outputs": [
    {
     "name": "stdout",
     "output_type": "stream",
     "text": [
      "Time difference since jamuary, 1, 1970 is:  19723 days, 0:00:00\n"
     ]
    }
   ],
   "source": [
    "from datetime import timedelta\n",
    "\n",
    "today =datetime.now()\n",
    "\n",
    "epoch = datetime(1970,1,1)\n",
    "\n",
    "time_difference = new_year - epoch\n",
    "\n",
    "print(\"Time difference since jamuary, 1, 1970 is: \", time_difference)"
   ]
  },
  {
   "cell_type": "markdown",
   "metadata": {},
   "source": [
    "6. Think, what can you use the datetime module for? Examples:\n",
    "   - Time series analysis\n",
    "   - To get a timestamp of any activities in an application\n",
    "   - Adding posts on a blog "
   ]
  },
  {
   "cell_type": "markdown",
   "metadata": {},
   "source": [
    "  1. Time series analysis: It allows handling and manipulating time-based data, such as analyzing trends, forecasting, and calculating time-based metrics.\n",
    "\n",
    "  2. Timestamp of any activity: It can be used to record and manage timestamps for various activities, such as logging events, tracking user actions, or measuring the duration of processes.\n",
    "\n",
    "  3. Adding posts on a blog: It enables adding timestamps to blog posts, scheduling future posts, or sorting posts based on their publication dates for display purposes.\n"
   ]
  }
 ],
 "metadata": {
  "kernelspec": {
   "display_name": "Arewadatascience",
   "language": "python",
   "name": "python3"
  },
  "language_info": {
   "codemirror_mode": {
    "name": "ipython",
    "version": 3
   },
   "file_extension": ".py",
   "mimetype": "text/x-python",
   "name": "python",
   "nbconvert_exporter": "python",
   "pygments_lexer": "ipython3",
   "version": "3.8.18"
  }
 },
 "nbformat": 4,
 "nbformat_minor": 2
}
