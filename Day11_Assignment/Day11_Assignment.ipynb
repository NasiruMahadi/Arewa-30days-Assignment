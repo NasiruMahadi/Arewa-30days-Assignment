{
 "cells": [
  {
   "cell_type": "markdown",
   "metadata": {},
   "source": [
    "## 💻 Exercises: Day 11\n",
    "\n",
    "### Exercises: Level 1\n",
    "1. Declare a function _add_two_numbers_. It takes two parameters and it returns a sum."
   ]
  },
  {
   "cell_type": "code",
   "execution_count": 3,
   "metadata": {},
   "outputs": [
    {
     "name": "stdout",
     "output_type": "stream",
     "text": [
      "30\n"
     ]
    }
   ],
   "source": [
    "def add_two_numbers(num_1, num_2):\n",
    "    sum = num_1 + num_2\n",
    "    return sum \n",
    "print(add_two_numbers(10,20))"
   ]
  },
  {
   "cell_type": "markdown",
   "metadata": {},
   "source": [
    "2. Area of a circle is calculated as follows: area = π x r x r. Write a function that calculates _area_of_circle_."
   ]
  },
  {
   "cell_type": "code",
   "execution_count": 4,
   "metadata": {},
   "outputs": [
    {
     "name": "stdout",
     "output_type": "stream",
     "text": [
      "254.34\n"
     ]
    }
   ],
   "source": [
    "def area_of_circle (r):\n",
    "    PI = 3.14\n",
    "    area = PI * r ** 2\n",
    "    return area\n",
    "print(area_of_circle(9))"
   ]
  },
  {
   "cell_type": "markdown",
   "metadata": {},
   "source": [
    "3. Write a function called add_all_nums which takes arbitrary number of arguments and sums all the arguments. Check if all the list items are number types. If not do give a reasonable feedback."
   ]
  },
  {
   "cell_type": "code",
   "execution_count": 18,
   "metadata": {},
   "outputs": [
    {
     "name": "stdout",
     "output_type": "stream",
     "text": [
      "Error: All arguments must be numbers\n"
     ]
    }
   ],
   "source": [
    "def is_number(number):\n",
    "   return isinstance(number, (int, float))\n",
    "\n",
    "def add_all_nums(*nums):\n",
    "    if all(is_number(number) for number in nums): \n",
    "        return sum(nums)\n",
    "    else:\n",
    "        return \"Error: All arguments must be numbers\"\n",
    "print(add_all_nums(2, 3, 5, 10, '4')) "
   ]
  },
  {
   "cell_type": "markdown",
   "metadata": {},
   "source": [
    "4. Temperature in °C can be converted to °F using this formula: °F = (°C x 9/5) + 32. Write a function which converts °C to °F, _convert_celsius_to-fahrenheit_."
   ]
  },
  {
   "cell_type": "code",
   "execution_count": 21,
   "metadata": {},
   "outputs": [
    {
     "name": "stdout",
     "output_type": "stream",
     "text": [
      "91.4\n"
     ]
    }
   ],
   "source": [
    "def convert_celsius_to_fahrenheit(celsius):\n",
    "    f = (celsius * 9/5) + 32\n",
    "    return  f\n",
    "print(convert_celsius_to_fahrenheit(33))"
   ]
  },
  {
   "cell_type": "markdown",
   "metadata": {},
   "source": [
    "5. Write a function called check-season, it takes a month parameter and returns the season: Autumn, Winter, Spring or Summer."
   ]
  },
  {
   "cell_type": "code",
   "execution_count": 42,
   "metadata": {},
   "outputs": [
    {
     "name": "stdout",
     "output_type": "stream",
     "text": [
      "The season is Spring\n"
     ]
    }
   ],
   "source": [
    "def check_season(month):\n",
    "        if (month == 'September') or (month =='October') or (month =='November'):\n",
    "            return \"The season is Autumn\"\n",
    "        elif (month == 'December') or (month =='January') or (month =='February'):\n",
    "            return \"The season is Winter\"\n",
    "        elif (month == 'March') or (month =='April') or (month =='May'):\n",
    "            return\"The season is Spring\"\n",
    "        elif (month == 'June') or (month =='July') or (month =='August'):\n",
    "            return \"The season is Summer\"\n",
    "print(check_season('May'))"
   ]
  },
  {
   "cell_type": "markdown",
   "metadata": {},
   "source": [
    "6. Write a function called calculate_slope which return the slope of a linear equation"
   ]
  },
  {
   "cell_type": "code",
   "execution_count": 47,
   "metadata": {},
   "outputs": [
    {
     "name": "stdout",
     "output_type": "stream",
     "text": [
      "0.16666666666666666\n"
     ]
    }
   ],
   "source": [
    "def calculate_slope(x1,y1, x2, y2):\n",
    "    return (y2-y1)/(x2-x1)\n",
    "print(calculate_slope(12,9,6,8))"
   ]
  },
  {
   "cell_type": "markdown",
   "metadata": {},
   "source": [
    "7. Quadratic equation is calculated as follows: ax² + bx + c = 0. Write a function which calculates solution set of a quadratic equation, _solve_quadratic_eqn_."
   ]
  },
  {
   "cell_type": "code",
   "execution_count": 51,
   "metadata": {},
   "outputs": [
    {
     "name": "stdout",
     "output_type": "stream",
     "text": [
      "(2.0, 1.0)\n"
     ]
    }
   ],
   "source": [
    "def solve_quadratic_eqn(a, b, c):\n",
    "    descriminant = (b**2 - 4*a*c)\n",
    "\n",
    "    if descriminant > 0:\n",
    "        root1 = (-b + (descriminant)**0.5)/(2*a)\n",
    "        root2 = (-b - (descriminant)**0.5)/(2*a)\n",
    "        return root1, root2\n",
    "    \n",
    "    elif descriminant == 0:\n",
    "        root = -b/(2*a)\n",
    "        return root\n",
    "    else:\n",
    "        real_part = -b/(2*a)\n",
    "        imaginary_part = (-descriminant)**0.5/(2*a)\n",
    "        root1 = complex(real_part, imaginary_part)\n",
    "        root1 = complex(real_part, -imaginary_part)\n",
    "        return root1, root2\n",
    "print(solve_quadratic_eqn(1, -3, 2))"
   ]
  },
  {
   "cell_type": "markdown",
   "metadata": {},
   "source": [
    "8. Declare a function named print_list. It takes a list as a parameter and it prints out each element of the list."
   ]
  },
  {
   "cell_type": "code",
   "execution_count": 63,
   "metadata": {},
   "outputs": [
    {
     "name": "stdout",
     "output_type": "stream",
     "text": [
      "[1, 2, 3, 4]\n"
     ]
    }
   ],
   "source": [
    "def print_list (*number):\n",
    "    lst = list(number)\n",
    "\n",
    "    return lst\n",
    "\n",
    "print(print_list(1,2,3,4))"
   ]
  },
  {
   "cell_type": "markdown",
   "metadata": {},
   "source": [
    "9. Declare a function named reverse_list. It takes an array as a parameter and it returns the reverse of the array (use loops)."
   ]
  },
  {
   "cell_type": "code",
   "execution_count": 97,
   "metadata": {},
   "outputs": [
    {
     "name": "stdout",
     "output_type": "stream",
     "text": [
      "5\n",
      "4\n",
      "3\n",
      "2\n",
      "1\n",
      "None\n"
     ]
    }
   ],
   "source": [
    "def reverse_list(*array):\n",
    "    for i in range(len(array)-1, -1, -1): \n",
    "            print(array[i])\n",
    "print(reverse_list(1,2,3,4,5))"
   ]
  },
  {
   "cell_type": "markdown",
   "metadata": {},
   "source": [
    "10. Declare a function named capitalize_list_items. It takes a list as a parameter and it returns a capitalized list of items"
   ]
  },
  {
   "cell_type": "code",
   "execution_count": 11,
   "metadata": {},
   "outputs": [
    {
     "name": "stdout",
     "output_type": "stream",
     "text": [
      "MANGO\n",
      "APPLE\n",
      "ORANGE\n",
      "None\n"
     ]
    }
   ],
   "source": [
    "def capitalize_list_items(*items):\n",
    "    for item in items:\n",
    "        capitalize_list_item = item.swapcase()\n",
    "        print(capitalize_list_item)\n",
    "\n",
    "print(capitalize_list_items('mango', 'apple', 'orange'))"
   ]
  },
  {
   "cell_type": "markdown",
   "metadata": {},
   "source": [
    "11. Declare a function named add_item. It takes a list and an item parameters. It returns a list with the item added at the end."
   ]
  },
  {
   "cell_type": "code",
   "execution_count": 21,
   "metadata": {},
   "outputs": [
    {
     "name": "stdout",
     "output_type": "stream",
     "text": [
      "('Lagos', 'Benue', 'Ondo', 'Kano', 'Zaria', 'Bauchi')\n",
      "None\n"
     ]
    }
   ],
   "source": [
    "def add_item(*items):\n",
    "    added_list = ('Kano', 'Zaria', 'Bauchi')\n",
    "    lst = items + added_list \n",
    "    print(lst)\n",
    "\n",
    "print(add_item('Lagos', 'Benue', 'Ondo'))"
   ]
  },
  {
   "cell_type": "markdown",
   "metadata": {},
   "source": [
    "12. Declare a function named remove_item. It takes a list and an item parameters. It returns a list with the item removed from it."
   ]
  },
  {
   "cell_type": "code",
   "execution_count": 3,
   "metadata": {},
   "outputs": [
    {
     "name": "stdout",
     "output_type": "stream",
     "text": [
      "None\n"
     ]
    }
   ],
   "source": [
    "def remove_item(lst, item):\n",
    "    if item in lst:\n",
    "        lst.remove(item)\n",
    "      \n",
    "lst_items = ['Potato', 'Tomato', 'Mango', 'Milk']\n",
    "    \n",
    "       \n",
    "print(remove_item(lst_items, 'Mango'))\n",
    "    "
   ]
  },
  {
   "cell_type": "markdown",
   "metadata": {},
   "source": [
    "15. Declare a function named sum_of_even. It takes a number parameter and it adds all the even numbers in that - range."
   ]
  },
  {
   "cell_type": "code",
   "execution_count": 25,
   "metadata": {},
   "outputs": [
    {
     "name": "stdout",
     "output_type": "stream",
     "text": [
      "30\n"
     ]
    }
   ],
   "source": [
    "def sum_of_even(number):\n",
    "    evens = []\n",
    "    sums = 0\n",
    "    for i in range(number + 1):\n",
    "        if i % 2 == 0:\n",
    "            evens.append(i)\n",
    "    for i in evens[0:]:\n",
    "        sums = sums + i\n",
    "    return sums\n",
    "print(sum_of_even(10))"
   ]
  },
  {
   "cell_type": "markdown",
   "metadata": {},
   "source": [
    "1.  Declare a function named evens_and_odds . It takes a positive integer as parameter and it counts number of evens and odds in the number."
   ]
  },
  {
   "cell_type": "code",
   "execution_count": 35,
   "metadata": {},
   "outputs": [
    {
     "name": "stdout",
     "output_type": "stream",
     "text": [
      "The number of odds are 50\n",
      "The number of even are 51\n",
      "None\n"
     ]
    }
   ],
   "source": [
    "def evens_and_odds(number):\n",
    "    evens = []\n",
    "    odds = []\n",
    "    \n",
    "    for i in range(number + 1):\n",
    "        if i % 2 == 0:\n",
    "            evens.append(i)\n",
    "\n",
    "    for i in range(number + 1):\n",
    "        if i % 2 == 1:\n",
    "            odds.append(i)\n",
    "\n",
    "    no_of_evens = len(evens)\n",
    "    no_of_odds = len(odds)\n",
    "    print('The number of odds are {}'.format(no_of_odds))\n",
    "    print('The number of even are {}'.format(no_of_evens))\n",
    "    \n",
    "print(evens_and_odds(100))"
   ]
  },
  {
   "cell_type": "markdown",
   "metadata": {},
   "source": [
    "2. Call your function factorial, it takes a whole number as a parameter and it return a factorial of the number"
   ]
  },
  {
   "cell_type": "code",
   "execution_count": 1,
   "metadata": {},
   "outputs": [
    {
     "name": "stdout",
     "output_type": "stream",
     "text": [
      "0\n"
     ]
    }
   ],
   "source": [
    "def factorial(number):\n",
    "    fact = 0\n",
    "    for i in range(number):\n",
    "        for n in range(i):\n",
    "            fact = fact * n\n",
    "    return fact\n",
    "print(factorial(5))"
   ]
  },
  {
   "cell_type": "markdown",
   "metadata": {},
   "source": [
    "3. Call your function _is_empty_, it takes a parameter and it checks if it is empty or not"
   ]
  },
  {
   "cell_type": "code",
   "execution_count": 7,
   "metadata": {},
   "outputs": [
    {
     "name": "stdout",
     "output_type": "stream",
     "text": [
      "It is not empty\n"
     ]
    }
   ],
   "source": [
    "def is_empty(number):\n",
    "    if not number:\n",
    "        return 'It is empty'\n",
    "    else:\n",
    "        return 'It is not empty'\n",
    "print(is_empty(7))"
   ]
  },
  {
   "cell_type": "markdown",
   "metadata": {},
   "source": [
    "4. Write different functions which take lists. They should calculate_mean, calculate_median, calculate_mode, calculate_range, calculate_variance, calculate_std (standard deviation)."
   ]
  },
  {
   "cell_type": "code",
   "execution_count": null,
   "metadata": {},
   "outputs": [],
   "source": [
    "# Calculate mean\n",
    "\n",
    "def calculate_mean(lst):\n",
    "    return sum(lst)/ len(lst)\n",
    "\n",
    "# Calculate median\n",
    "\n",
    "def calculate_median(lst):\n",
    "    sorted_lst = sorted(lst)\n",
    "    n = len(sorted_lst)\n",
    "\n",
    "    if n % 2 == 0:\n",
    "        median = (sorted_lst[n//2-1] + sorted_lst[n//2]) / 2 \n",
    "    else:\n",
    "        median = sorted_lst[n//2]\n",
    "    return median\n",
    "\n",
    "# Calculate mode\n",
    "from collections import Counter\n",
    "def alculate_mode(lst):\n",
    "    counts = Counter(lst)\n",
    "    mode_counts = max(counts.values())\n",
    "    modes = [num for num, count in counts.items() if count == mode_counts]\n",
    "    return modes\n",
    "\n",
    "# Calculate range\n",
    "def calculate_range(lst):\n",
    "    return max(lst) - min(lst)\n",
    "\n",
    "\n",
    "# Calculate variance\n",
    "\n",
    "def calculate_variance(lst):\n",
    "    mean = calculate_mean(lst)\n",
    "    square_diffs = [(x-mean) ** 2 for x in lst]\n",
    "\n",
    "    variance = sum(square_diffs)/ len(lst)\n",
    "    return variance\n",
    "\n",
    "# Calculate std\n",
    "import math\n",
    "def calculate_std(lst):\n",
    "    variance = calculate_variance(lst)\n",
    "    std_dev = math.sqrt(variance)\n",
    "\n",
    "    return std_dev"
   ]
  },
  {
   "cell_type": "markdown",
   "metadata": {},
   "source": [
    "### Exercises: Level 3\n",
    "1. Write a function called is_prime, which checks if a number is prime."
   ]
  },
  {
   "cell_type": "code",
   "execution_count": 9,
   "metadata": {},
   "outputs": [
    {
     "name": "stdout",
     "output_type": "stream",
     "text": [
      "True\n"
     ]
    }
   ],
   "source": [
    "def is_prime(number):\n",
    "    if number <= 1:\n",
    "        return False\n",
    "    elif number <= 3:\n",
    "        return True\n",
    "    elif number % 2 == 0 or number % 3 == 0: \n",
    "        return False\n",
    "    else:\n",
    "        i = 5\n",
    "        while i * i <= number:\n",
    "            if number % i == 0 or number % (i + 2) == 0:\n",
    "                return False\n",
    "            i += 6\n",
    "        return True\n",
    "print(is_prime(7))        \n"
   ]
  },
  {
   "cell_type": "markdown",
   "metadata": {},
   "source": [
    "2. Write a functions which checks if all items are unique in the list."
   ]
  },
  {
   "cell_type": "code",
   "execution_count": 12,
   "metadata": {},
   "outputs": [
    {
     "name": "stdout",
     "output_type": "stream",
     "text": [
      "False\n"
     ]
    }
   ],
   "source": [
    "def are_all_unique(lst):\n",
    "    \n",
    "    return len(lst) == len(set(lst))\n",
    "print(are_all_unique(lst =[2,5,2]))"
   ]
  },
  {
   "cell_type": "markdown",
   "metadata": {},
   "source": [
    "3. Write a function which checks if all the items of the list are of the same data type."
   ]
  },
  {
   "cell_type": "code",
   "execution_count": 14,
   "metadata": {},
   "outputs": [
    {
     "name": "stdout",
     "output_type": "stream",
     "text": [
      "False\n"
     ]
    }
   ],
   "source": [
    "def are_thesame_data_type(lst):\n",
    "    if len(lst) <= 1:\n",
    "        return True\n",
    "    else:\n",
    "        data_type = type(lst[0])\n",
    "        for item in lst:\n",
    "            if type(item) != data_type:\n",
    "                return False\n",
    "        return True\n",
    "\n",
    "print(are_thesame_data_type(lst=[3, 'hello']))        "
   ]
  },
  {
   "cell_type": "markdown",
   "metadata": {},
   "source": [
    "4. Write a function which check if provided variable is a valid python variable"
   ]
  },
  {
   "cell_type": "code",
   "execution_count": 4,
   "metadata": {},
   "outputs": [
    {
     "name": "stdout",
     "output_type": "stream",
     "text": [
      "False\n"
     ]
    }
   ],
   "source": [
    "def valid_variable(varialbe):\n",
    "    if isinstance(varialbe, str):\n",
    "        return varialbe.isidentifier()\n",
    "    return False\n",
    "print(valid_variable('1_Hello'))"
   ]
  },
  {
   "cell_type": "markdown",
   "metadata": {},
   "source": [
    "5. Go to the data folder and access the countries-data.py file."
   ]
  },
  {
   "cell_type": "code",
   "execution_count": null,
   "metadata": {},
   "outputs": [],
   "source": [
    "def access_data():\n",
    "    import os\n",
    "    folder_path = '/Users\\user\\Desktop/'"
   ]
  },
  {
   "cell_type": "markdown",
   "metadata": {},
   "source": [
    "- Create a function called the most_spoken_languages in the world. It should return 10 or 20 most spoken languages in the world in descending order"
   ]
  },
  {
   "cell_type": "code",
   "execution_count": null,
   "metadata": {},
   "outputs": [],
   "source": [
    "def most_spoken_languages(Countries_data):\n",
    "    for country in Countries_data:\n",
    "    languages = country[\"languages\"]\n",
    "\n",
    "    for language in languages:\n",
    "\n",
    "        if language in language_count:\n",
    "            language_count[language] += 1\n",
    "        else:\n",
    "            language_count[language] = 1\n",
    "\n",
    "    sorted_languages = sorted(language_count.items(), key=lambda x: x[1], reverse=True)\n",
    "\n",
    "    top_ten_languages = [language[0] for language in sorted_languages[:10]]\n",
    "\n",
    "    print(\"TOP TEN MOST SPOKEN LANGUAGE\")\n",
    "\n",
    "    for language in top_ten_languages:\n",
    "         print(language)"
   ]
  },
  {
   "cell_type": "markdown",
   "metadata": {},
   "source": [
    "- Create a function called the most_populated_countries. It should return 10 or 20 most populated countries in descending order."
   ]
  },
  {
   "cell_type": "code",
   "execution_count": null,
   "metadata": {},
   "outputs": [],
   "source": [
    "def most_populated_countries():\n",
    "    sorted_countries = sorted(Countries_data, key=lambda x: x[\"population\"], reverse=True)\n",
    "\n",
    "top_ten_countries = [country[\"name\"] for country in sorted_countries[:10]]\n",
    "\n",
    "print(\"TOP TEN MOST POPULATED\")\n",
    "\n",
    "for country in top_ten_countries:\n",
    "    print(country)"
   ]
  }
 ],
 "metadata": {
  "kernelspec": {
   "display_name": "Python 3",
   "language": "python",
   "name": "python3"
  },
  "language_info": {
   "codemirror_mode": {
    "name": "ipython",
    "version": 3
   },
   "file_extension": ".py",
   "mimetype": "text/x-python",
   "name": "python",
   "nbconvert_exporter": "python",
   "pygments_lexer": "ipython3",
   "version": "3.8.18"
  }
 },
 "nbformat": 4,
 "nbformat_minor": 2
}
