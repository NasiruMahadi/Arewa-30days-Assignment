{
 "cells": [
  {
   "cell_type": "markdown",
   "metadata": {},
   "source": [
    "# Excercise - Day 3"
   ]
  },
  {
   "cell_type": "code",
   "execution_count": null,
   "metadata": {},
   "outputs": [],
   "source": [
    "# 1. Declare your age as integer variable\n",
    "\n",
    "age = int()"
   ]
  },
  {
   "cell_type": "code",
   "execution_count": null,
   "metadata": {},
   "outputs": [],
   "source": [
    "# 2 Declare your height as a float variable\n",
    "\n",
    "height = float()"
   ]
  },
  {
   "cell_type": "code",
   "execution_count": null,
   "metadata": {},
   "outputs": [],
   "source": [
    "# 3 Declare a variable that store a complex number\n",
    "\n",
    "comp_num = complex()"
   ]
  },
  {
   "cell_type": "code",
   "execution_count": 17,
   "metadata": {},
   "outputs": [
    {
     "name": "stdout",
     "output_type": "stream",
     "text": [
      "2.0\n"
     ]
    }
   ],
   "source": [
    "# 4. Write a script that prompts the user to enter base and height of the triangle and calculate an area of this triangle (area = 0.5 x b x h).\n",
    "\n",
    "b = float(input(\"Enter base: \"))\n",
    "h = float(input(\"Enter height: \"))\n",
    "area = 0.5 * b * h\n",
    "print(area)"
   ]
  },
  {
   "cell_type": "code",
   "execution_count": 19,
   "metadata": {},
   "outputs": [
    {
     "name": "stdout",
     "output_type": "stream",
     "text": [
      "9.0\n"
     ]
    }
   ],
   "source": [
    "# 5. Write a script that prompts the user to enter side a, side b, and side c of the triangle. Calculate the perimeter of the triangle (perimeter = a + b + c).\n",
    "\n",
    "a = float(input(\"Enter side a: \"))\n",
    "b = float(input(\"Enter side b: \"))\n",
    "c = float(input(\"Enter side c: \"))\n",
    "perimeter = a + b + c\n",
    "print(perimeter)"
   ]
  },
  {
   "cell_type": "code",
   "execution_count": 21,
   "metadata": {},
   "outputs": [
    {
     "name": "stdout",
     "output_type": "stream",
     "text": [
      "4.0\n",
      "8.0\n"
     ]
    }
   ],
   "source": [
    "# 6. Get length and width of a rectangle using prompt. Calculate its area (area = length x width) and perimeter (perimeter = 2 x (length + width))\n",
    "\n",
    "lenght = float(input(\"Enter lenght: \"))\n",
    "width = float(input(\"Enter width: \"))\n",
    "\n",
    "area = lenght * width\n",
    "perimeter = 2 * (lenght + width)\n",
    "\n",
    "print(area)\n",
    "print(perimeter)"
   ]
  },
  {
   "cell_type": "code",
   "execution_count": 22,
   "metadata": {},
   "outputs": [
    {
     "name": "stdout",
     "output_type": "stream",
     "text": [
      "The area of the circle is: 12.56\n",
      "The circumference of the circle is: 12.56\n"
     ]
    }
   ],
   "source": [
    "# 7. Get radius of a circle using prompt. Calculate the area (area = pi x r x r) and circumference (c = 2 x pi x r) where pi = 3.14.\n",
    "\n",
    "radius = float(input(\"Enter the radius of the circle (in meter): \"))\n",
    "\n",
    "area = 3.14 * radius**2\n",
    "circumference = 2 * 3.14 * radius\n",
    "\n",
    "print(\"The area of the circle is:\", area)\n",
    "print(\"The circumference of the circle is:\", circumference)"
   ]
  },
  {
   "cell_type": "code",
   "execution_count": 25,
   "metadata": {},
   "outputs": [
    {
     "name": "stdout",
     "output_type": "stream",
     "text": [
      "1.0\n"
     ]
    }
   ],
   "source": [
    "# 8. Calculate the slope, x-intercept and y-intercept of y = 2x -2\n",
    "\n",
    "slope = 2\n",
    "y_intercept = -2\n",
    "\n",
    "x_intercept = (0 - y_intercept) / slope\n",
    "\n",
    "print(x_intercept)\n"
   ]
  },
  {
   "cell_type": "code",
   "execution_count": 27,
   "metadata": {},
   "outputs": [
    {
     "name": "stdout",
     "output_type": "stream",
     "text": [
      "16\n"
     ]
    }
   ],
   "source": [
    "# 9. Slope is (m = y2-y1/x2-x1). Find the slope and [Euclidean distance] between point (2, 2) and point (6,10)\n",
    "\n",
    "\n",
    "slope2= ((2-2)**2+(6-10)**2)\n",
    "print(slope2)\n"
   ]
  },
  {
   "cell_type": "code",
   "execution_count": 30,
   "metadata": {},
   "outputs": [
    {
     "name": "stdout",
     "output_type": "stream",
     "text": [
      "slope 8 is shorter than slopr 9\n"
     ]
    }
   ],
   "source": [
    "# 10. Compare the slopes in tasks 8 and 9.\n",
    "\n",
    "if (slope) > (slope2):\n",
    "    print(\"slope 8 is greater than slope 9\")\n",
    "\n",
    "elif (slope) < (slope2):\n",
    "    print(\"slope 8 is shorter than slopr 9\")\n",
    "\n",
    "else:\n",
    "    print(\"slpe 8 and slpe 9 have the same\")"
   ]
  },
  {
   "cell_type": "code",
   "execution_count": 34,
   "metadata": {},
   "outputs": [
    {
     "name": "stdout",
     "output_type": "stream",
     "text": [
      "11\n"
     ]
    }
   ],
   "source": [
    "# 11. Calculate the value of y (y = x^2 + 6x + 9). Try to use different x values and figure out at what x value y is going to be 0.\n",
    "\n",
    "x = int(input(\"Enter the value of x: \"))\n",
    "\n",
    "y = x ^ 2 + 6 * x + 9\n",
    "\n",
    "print(y)"
   ]
  },
  {
   "cell_type": "code",
   "execution_count": 36,
   "metadata": {},
   "outputs": [
    {
     "name": "stdout",
     "output_type": "stream",
     "text": [
      "i am tired\n"
     ]
    }
   ],
   "source": [
    "# 12. Find the length of 'python' and 'dragon' and make a falsy comparison statement.\n",
    "\n",
    "if len(\"Python\") > len(\"dragon\"):\n",
    "    print(\"Python is great\")\n",
    "\n",
    "elif len(\"Python\") < len(\"dragon\"):\n",
    "    print(\"I love dragon\")\n",
    "\n",
    "else:\n",
    "    print(\"i am tired\")"
   ]
  },
  {
   "cell_type": "code",
   "execution_count": 38,
   "metadata": {},
   "outputs": [
    {
     "name": "stdout",
     "output_type": "stream",
     "text": [
      "True\n"
     ]
    }
   ],
   "source": [
    "# 13. Use _and_ operator to check if 'on' is found in both 'python' and 'dragon'\n",
    "\n",
    "print('on' in 'python' and 'on' in 'dragon')"
   ]
  },
  {
   "cell_type": "code",
   "execution_count": 39,
   "metadata": {},
   "outputs": [
    {
     "name": "stdout",
     "output_type": "stream",
     "text": [
      "True\n"
     ]
    }
   ],
   "source": [
    "# 14. _I hope this course is not full of jargon_. Use _in_ operator to check if _jargon_ is in the sentence.\n",
    "\n",
    "print('jargon' in 'I hope this course is not full of jargon')"
   ]
  },
  {
   "cell_type": "code",
   "execution_count": 40,
   "metadata": {},
   "outputs": [
    {
     "name": "stdout",
     "output_type": "stream",
     "text": [
      "False\n"
     ]
    }
   ],
   "source": [
    "# 15. There is no 'on' in both dragon and python\n",
    "\n",
    "print('no' in 'dragon' and 'python')"
   ]
  },
  {
   "cell_type": "code",
   "execution_count": null,
   "metadata": {},
   "outputs": [],
   "source": [
    "# 16. Find the length of the text _python_ and convert the value to float and convert it to string\n",
    "\n",
    "x = str(float(len(\"_python_\")))"
   ]
  },
  {
   "cell_type": "code",
   "execution_count": 48,
   "metadata": {},
   "outputs": [
    {
     "name": "stdout",
     "output_type": "stream",
     "text": [
      "Its not an even number\n"
     ]
    }
   ],
   "source": [
    "# 7. Even numbers are divisible by 2 and the remainder is zero. How do you check if a number is even or not using python?\n",
    "\n",
    "Number = int((input(\"Enter the any number:\" )))\n",
    "if (Number % 2) == 0:\n",
    "    print(\"Its an even number\")\n",
    "else:\n",
    "    print(\"Its not an even number\")"
   ]
  },
  {
   "cell_type": "code",
   "execution_count": 45,
   "metadata": {},
   "outputs": [
    {
     "name": "stdout",
     "output_type": "stream",
     "text": [
      "True\n"
     ]
    }
   ],
   "source": [
    "# 18. Check if the floor division of 7 by 3 is equal to the int converted value of 2.7.\n",
    "\n",
    "print(7 // 3 == int(2.7))"
   ]
  },
  {
   "cell_type": "code",
   "execution_count": 49,
   "metadata": {},
   "outputs": [
    {
     "name": "stdout",
     "output_type": "stream",
     "text": [
      "False\n"
     ]
    }
   ],
   "source": [
    "# 19. Check if type of '10' is equal to type of 10\n",
    "\n",
    "print(type('10') == type(10) )\n"
   ]
  },
  {
   "cell_type": "code",
   "execution_count": 50,
   "metadata": {},
   "outputs": [
    {
     "name": "stdout",
     "output_type": "stream",
     "text": [
      "False\n"
     ]
    }
   ],
   "source": [
    "# 20. Check if int('9.8') is equal to 10\n",
    "\n",
    "print(int(9.8) == 10)"
   ]
  },
  {
   "cell_type": "code",
   "execution_count": 53,
   "metadata": {},
   "outputs": [
    {
     "name": "stdout",
     "output_type": "stream",
     "text": [
      "Your weekly earning is  4\n"
     ]
    }
   ],
   "source": [
    "# 21. Writ a script that prompts the user to enter hours and rate per hour. Calculate pay of the person?\n",
    "\n",
    "hour = int(input(\"Enter hours: \"))\n",
    "rate = int(input(\"Enter rate per hour:\"))\n",
    "earning = hour * rate\n",
    "print(\"Your weekly earning is  %i\" %earning )\n",
    "\n"
   ]
  },
  {
   "cell_type": "code",
   "execution_count": 57,
   "metadata": {},
   "outputs": [
    {
     "name": "stdout",
     "output_type": "stream",
     "text": [
      "You have lived for 3110400000. seconds\n"
     ]
    }
   ],
   "source": [
    "# 22. Write a script that prompts the user to enter number of years. Calculate the number of seconds a person can live. Assume a person can live hundred years\n",
    "\n",
    "years = int(input(\"Enter number of years you have lived: \"))\n",
    "\n",
    "earn = years * 12 * 30 * 24 * 60 * 60\n",
    "print('You have lived for {}.'.format(earn), \"seconds\")"
   ]
  },
  {
   "cell_type": "code",
   "execution_count": 64,
   "metadata": {},
   "outputs": [
    {
     "name": "stdout",
     "output_type": "stream",
     "text": [
      "1 1 1 1 1\n",
      "2 1 2 4 8\n",
      "3 1 3 9 27\n",
      "4 1 4 16 64\n",
      "5 1 5 25 125\n"
     ]
    }
   ],
   "source": [
    "# 23. Write a Python script that displays the following table\n",
    "\n",
    "for num in range(1,6):\n",
    "    print(num, int(num/num), num, num**2, num**3)\n"
   ]
  }
 ],
 "metadata": {
  "kernelspec": {
   "display_name": "Python 3",
   "language": "python",
   "name": "python3"
  },
  "language_info": {
   "codemirror_mode": {
    "name": "ipython",
    "version": 3
   },
   "file_extension": ".py",
   "mimetype": "text/x-python",
   "name": "python",
   "nbconvert_exporter": "python",
   "pygments_lexer": "ipython3",
   "version": "3.8.18"
  }
 },
 "nbformat": 4,
 "nbformat_minor": 2
}
