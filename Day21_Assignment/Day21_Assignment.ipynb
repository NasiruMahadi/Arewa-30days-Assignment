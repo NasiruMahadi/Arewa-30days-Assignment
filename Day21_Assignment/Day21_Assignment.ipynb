{
 "cells": [
  {
   "cell_type": "markdown",
   "metadata": {},
   "source": [
    "## 💻 Exercises: Day 21\n",
    "\n",
    "### Exercises: Level 1\n",
    "\n",
    "1. Python has the module called _statistics_ and we can use this module to do all the statistical calculations. However, to learn how to make function and reuse function let us try to develop a program, which calculates the measure of central tendency of a sample (mean, median, mode) and measure of variability (range, variance, standard deviation). In addition to those measures, find the min, max, count, percentile, and frequency distribution of the sample. You can create a class called Statistics and create all the functions that do statistical calculations as methods for the Statistics class. Check the output below."
   ]
  },
  {
   "cell_type": "code",
   "execution_count": 1,
   "metadata": {},
   "outputs": [
    {
     "name": "stdout",
     "output_type": "stream",
     "text": [
      "Count: 25\n",
      "Sum:  744\n",
      "Min:  24\n",
      "Max:  38\n",
      "Range:  14\n",
      "Mean:  29.76\n",
      "Median:  29\n",
      "Mode:  {'mode': 26, 'count': 5}\n",
      "Standard Deviation:  4.2747319604079665\n",
      "Variance:  18.273333333333333\n",
      "Frequency Distribution:  [(5, 26), (4, 27), (3, 32), (2, 37), (2, 34), (2, 33), (2, 31), (2, 24), (1, 38), (1, 29), (1, 25)]\n"
     ]
    }
   ],
   "source": [
    "import statistics\n",
    "\n",
    "class Statistics:\n",
    "    def __init__(self, data):\n",
    "        self.data = data\n",
    "\n",
    "    def count(self):\n",
    "        return len(self.data)\n",
    "\n",
    "    def sum(self):\n",
    "        return sum(self.data)\n",
    "\n",
    "    def min(self):\n",
    "        return min(self.data)\n",
    "\n",
    "    def max(self):\n",
    "        return max(self.data)\n",
    "\n",
    "    def range(self):\n",
    "        return max(self.data) - min(self.data)\n",
    "\n",
    "    def mean(self):\n",
    "        return statistics.mean(self.data)\n",
    "\n",
    "    def median(self):\n",
    "        return statistics.median(self.data)\n",
    "\n",
    "    def mode(self):\n",
    "        mode_result = statistics.multimode(self.data)\n",
    "        return {'mode': mode_result[0], 'count': self.data.count(mode_result[0])}\n",
    "\n",
    "    def std(self):\n",
    "        return statistics.stdev(self.data)\n",
    "\n",
    "    def var(self):\n",
    "        return statistics.variance(self.data)\n",
    "\n",
    "    def freq_dist(self):\n",
    "        frequencies = [(self.data.count(value), value) for value in set(self.data)]\n",
    "        return sorted(frequencies, reverse=True)\n",
    "\n",
    "# Example usage\n",
    "ages = [31, 26, 34, 37, 27, 26, 32, 32, 26, 27, 27, 24, 32, 33, 27, 25, 26, 38, 37, 31, 34, 24, 33, 29, 26]\n",
    "\n",
    "data = Statistics(ages)\n",
    "\n",
    "print('Count:', data.count())  # 25\n",
    "print('Sum: ', data.sum())  # 744\n",
    "print('Min: ', data.min())  # 24\n",
    "print('Max: ', data.max())  # 38\n",
    "print('Range: ', data.range())  # 14\n",
    "print('Mean: ', data.mean())  # 30.0\n",
    "print('Median: ', data.median())  # 29\n",
    "print('Mode: ', data.mode())  # {'mode': 26, 'count': 5}\n",
    "print('Standard Deviation: ', data.std())  # 4.2\n",
    "print('Variance: ', data.var())  # 17.5\n",
    "print('Frequency Distribution: ', data.freq_dist())\n"
   ]
  },
  {
   "cell_type": "markdown",
   "metadata": {},
   "source": [
    "### Exercises: Level 2\n",
    "\n",
    "1. Create a class called PersonAccount. It has firstname, lastname, incomes, expenses properties and it has total_income, total_expense, account_info, add_income, add_expense and account_balance methods. Incomes is a set of incomes and its description. The same goes for expenses."
   ]
  },
  {
   "cell_type": "code",
   "execution_count": 4,
   "metadata": {},
   "outputs": [
    {
     "name": "stdout",
     "output_type": "stream",
     "text": [
      "Name: Nasiru Mahadi\n",
      "Total Income: 1500\n",
      "Total Expense: 550\n",
      "Account Balance: 950\n",
      "Incomes: [{'amount': 1000, 'description': 'Freelance Work'}, {'amount': 500, 'description': 'Part-time Job'}]\n",
      "Expenses: [{'amount': 300, 'description': 'Groceries'}, {'amount': 50, 'description': 'Dinner'}, {'amount': 200, 'description': 'Utilities'}]\n"
     ]
    }
   ],
   "source": [
    "class PersonAccount:\n",
    "    def __init__(self, firstname, lastname):\n",
    "        self.firstname = firstname\n",
    "        self.lastname = lastname\n",
    "        self.incomes = []\n",
    "        self.expenses = []\n",
    "\n",
    "    def add_income(self, amount, description):\n",
    "        self.incomes.append({\"amount\": amount, \"description\": description})\n",
    "\n",
    "    def add_expense(self, amount, description):\n",
    "        self.expenses.append({\"amount\": amount, \"description\": description})\n",
    "\n",
    "    def total_income(self):\n",
    "        return sum(item[\"amount\"] for item in self.incomes)\n",
    "\n",
    "    def total_expense(self):\n",
    "        return sum(item[\"amount\"] for item in self.expenses)\n",
    "\n",
    "    def account_balance(self):\n",
    "        return self.total_income() - self.total_expense()\n",
    "\n",
    "    def account_info(self):\n",
    "        info = (\n",
    "            f\"Name: {self.firstname} {self.lastname}\\n\"\n",
    "            f\"Total Income: {self.total_income()}\\n\"\n",
    "            f\"Total Expense: {self.total_expense()}\\n\"\n",
    "            f\"Account Balance: {self.account_balance()}\\n\"\n",
    "            f\"Incomes: {self.incomes}\\n\"\n",
    "            f\"Expenses: {self.expenses}\"\n",
    "        )\n",
    "        return info\n",
    "\n",
    "\n",
    "# Example usage\n",
    "person = PersonAccount(firstname=\"Nasiru\", lastname=\"Mahadi\")\n",
    "person.add_income(1000, \"Freelance Work\")\n",
    "person.add_income(500, \"Part-time Job\")\n",
    "person.add_expense(300, \"Groceries\")\n",
    "person.add_expense(50, \"Dinner\")\n",
    "person.add_expense(200, \"Utilities\")\n",
    "\n",
    "print(person.account_info())\n"
   ]
  }
 ],
 "metadata": {
  "kernelspec": {
   "display_name": "Python 3",
   "language": "python",
   "name": "python3"
  },
  "language_info": {
   "codemirror_mode": {
    "name": "ipython",
    "version": 3
   },
   "file_extension": ".py",
   "mimetype": "text/x-python",
   "name": "python",
   "nbconvert_exporter": "python",
   "pygments_lexer": "ipython3",
   "version": "3.8.18"
  }
 },
 "nbformat": 4,
 "nbformat_minor": 2
}
