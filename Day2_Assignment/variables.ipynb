{
 "cells": [
  {
   "cell_type": "markdown",
   "metadata": {},
   "source": [
    "## Exercises - Day 2\n",
    "#### Exercises: Level 1"
   ]
  },
  {
   "cell_type": "code",
   "execution_count": 1,
   "metadata": {},
   "outputs": [],
   "source": [
    "# Day 2: 30 Days of python programming\n",
    "first_name = \"Arewa\"\n",
    "last_name = \"Datascience\"\n",
    "full_name = \"Arewa Datascience\"\n",
    "country = \"Nigeria\"\n",
    "city = \"Kano\"\n",
    "age = 2\n",
    "year = 2021\n",
    "is_married = False\n",
    "is_light_on = \"yes\"\n",
    "suna, kasa, shekaru = \"Musa\", \"Nigeria\", 25"
   ]
  },
  {
   "cell_type": "markdown",
   "metadata": {},
   "source": [
    "#### Exercises: Level 2"
   ]
  },
  {
   "cell_type": "code",
   "execution_count": 9,
   "metadata": {},
   "outputs": [
    {
     "name": "stdout",
     "output_type": "stream",
     "text": [
      "<class 'str'>\n",
      "<class 'str'>\n",
      "<class 'str'>\n",
      "<class 'str'>\n",
      "<class 'str'>\n",
      "<class 'int'>\n",
      "<class 'int'>\n",
      "<class 'bool'>\n",
      "<class 'str'>\n",
      "<class 'tuple'>\n"
     ]
    }
   ],
   "source": [
    "# Data type of all your variables using type() built-in function\n",
    "\n",
    "print(type(first_name))\n",
    "print(type(last_name))\n",
    "print(type(full_name))\n",
    "print(type(country))\n",
    "print(type(city))\n",
    "print(type(age))\n",
    "print(type(year))\n",
    "print(type(is_married))\n",
    "print(type(is_light_on))\n",
    "print(type(((suna), (kasa), (shekaru))))\n"
   ]
  },
  {
   "cell_type": "code",
   "execution_count": 10,
   "metadata": {},
   "outputs": [
    {
     "name": "stdout",
     "output_type": "stream",
     "text": [
      "5\n"
     ]
    }
   ],
   "source": [
    "# find the length of your first name\n",
    "print(len(first_name))"
   ]
  },
  {
   "cell_type": "code",
   "execution_count": 11,
   "metadata": {},
   "outputs": [
    {
     "name": "stdout",
     "output_type": "stream",
     "text": [
      "first_name is shorter than last_name\n"
     ]
    }
   ],
   "source": [
    "# Compare the length of your first name and your last name\n",
    "if len(first_name) > len(last_name):\n",
    "    print(\"first_name is longer than last_name\")\n",
    "\n",
    "elif len(first_name) < len(last_name):\n",
    "    print(\"first_name is shorter than last_name\")\n",
    "\n",
    "else:\n",
    "    print(\"first_name and last_name have the same length\")"
   ]
  },
  {
   "cell_type": "code",
   "execution_count": 12,
   "metadata": {},
   "outputs": [],
   "source": [
    "# Arithmetic Operation\n",
    "\n",
    "num_one, num_two = 5, 4\n",
    "\n",
    "total = num_one + num_two\n",
    "\n",
    "diff = num_one - num_two\n",
    "\n",
    "product = num_one * num_two\n",
    "\n",
    "division = num_one / num_two\n",
    "\n",
    "remainder = num_two % num_one\n",
    "\n",
    "exp = num_one ** num_two\n",
    "\n",
    "floor_division = num_one // num_two"
   ]
  },
  {
   "cell_type": "code",
   "execution_count": 17,
   "metadata": {},
   "outputs": [
    {
     "name": "stdout",
     "output_type": "stream",
     "text": [
      "2827.431\n"
     ]
    }
   ],
   "source": [
    "# The radius of a circle is 30 meters\n",
    "\n",
    "_area_of_circle_ =3.14159*(30**2)\n",
    "\n",
    "print(_area_of_circle_)"
   ]
  },
  {
   "cell_type": "code",
   "execution_count": 20,
   "metadata": {},
   "outputs": [
    {
     "name": "stdout",
     "output_type": "stream",
     "text": [
      "187.8954\n"
     ]
    }
   ],
   "source": [
    "# circumference of a circle\n",
    "\n",
    "_circum_of_circle_ = 2 * 3.13159 * 30\n",
    "\n",
    "print(_circum_of_circle_)"
   ]
  },
  {
   "cell_type": "code",
   "execution_count": 5,
   "metadata": {},
   "outputs": [
    {
     "name": "stdout",
     "output_type": "stream",
     "text": [
      "The area of the circle is: 2818.431\n"
     ]
    }
   ],
   "source": [
    "# Take radius as user input and calculate the area \n",
    "\n",
    "radius = float(input(\"Enter the radius of the circle (in meter): \"))\n",
    "\n",
    "area = 3.13159 * radius**2\n",
    "\n",
    "print(\"The area of the circle is:\", area)"
   ]
  },
  {
   "cell_type": "code",
   "execution_count": 7,
   "metadata": {},
   "outputs": [],
   "source": [
    "\"\"\"Use the built-in input function to get first name, last name, country and age from a user and store the value to their corresponding variable names\"\"\"\n",
    "\n",
    "first_name = input(\"Enter your first name: \")\n",
    "last_name = input(\"Enter your last name: \")\n",
    "country = input(\"Enter your country name: \")\n",
    "age = input(\"Enter your age: \")"
   ]
  }
 ],
 "metadata": {
  "kernelspec": {
   "display_name": "Python 3",
   "language": "python",
   "name": "python3"
  },
  "language_info": {
   "codemirror_mode": {
    "name": "ipython",
    "version": 3
   },
   "file_extension": ".py",
   "mimetype": "text/x-python",
   "name": "python",
   "nbconvert_exporter": "python",
   "pygments_lexer": "ipython3",
   "version": "3.8.18"
  }
 },
 "nbformat": 4,
 "nbformat_minor": 2
}
